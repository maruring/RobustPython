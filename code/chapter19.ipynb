{
 "cells": [
  {
   "cell_type": "markdown",
   "id": "12721938-6778-4977-b9f1-1a9f7b2e3662",
   "metadata": {},
   "source": [
    "# 19章 プラガブルPython"
   ]
  },
  {
   "cell_type": "markdown",
   "id": "8ecbb746-68c0-4e17-b4a9-d976dad7f3bf",
   "metadata": {},
   "source": [
    "## Template Methodパターン"
   ]
  },
  {
   "cell_type": "code",
   "execution_count": 1,
   "id": "5ca7df8e-fc16-4ad6-a3d3-db13887b446a",
   "metadata": {},
   "outputs": [],
   "source": [
    "from collections.abc import Callable\n",
    "from dataclasses import dataclass"
   ]
  },
  {
   "cell_type": "code",
   "execution_count": null,
   "id": "9d199db6-98f3-4151-8551-38833e1db9a9",
   "metadata": {},
   "outputs": [],
   "source": [
    "@dataclass:\n",
    "class PizzaCreationFunctions:\n",
    "    prepare_ingredients: Callable\n",
    "    add_pre_bake_toppings: Callable\n",
    "    add_post_bake_toppings: Callable\n",
    "\n",
    "def create_pizza(pizza_create_functions: PizzaCreationFunctions):\n",
    "    pizza_create_functions.prepare_ingredients()\n",
    "    roll_out_pizza_base()\n",
    "    pizza_create_functions.add_pre_bake_toppings()\n",
    "    bake_pizza()\n",
    "    pizza_create_functions.add_post_bake_toppings()\n",
    "\n",
    "# pizzaを作る関数は独自で渡す\n",
    "pizza_create_functions = PizzaCreationFunctions(\n",
    "    prepare_ingredients=mix_zaatar,\n",
    "    add_pre_bake_toppings=add_meat_and_halloumi,\n",
    "    add_post_bake_toppings=drizzle_olive_oil\n",
    ")"
   ]
  },
  {
   "cell_type": "markdown",
   "id": "158405b9-aba4-4641-8774-41984b5ac8d1",
   "metadata": {},
   "source": [
    "## Strategyパターン"
   ]
  },
  {
   "cell_type": "code",
   "execution_count": null,
   "id": "f39876ab-f2e3-4f85-b089-6009e3035e72",
   "metadata": {},
   "outputs": [],
   "source": [
    "import abc\n",
    "# Humanクラスの属性を比較して、値を返却する場合を想定する\n",
    "@dataclass\n",
    "class Human:\n",
    "    height: int\n",
    "    weight: int\n",
    "    age: int\n",
    "\n",
    "class Strategy(humanA: Human, humanB: Human):\n",
    "    \"\"\"\n",
    "    アルゴリズム（ConcreteStrategy）が実装する共通のインターフェイス\n",
    "    \"\"\"\n",
    "    @abc.abstractmethod\n",
    "    def operation(self):\n",
    "        pass\n",
    "\n",
    "# アルゴリズム\n",
    "class AgeComparator(Strategy):\n",
    "    \"\"\"\n",
    "    Strategy インターフェイスを実装するクラス\n",
    "    \"\"\"\n",
    "    def operation(self):\n",
    "        if human1.age > human2.age:\n",
    "            return 1\n",
    "        elif human1.age == human2.age:\n",
    "            return 0\n",
    "        elif human1.age < human2.age:\n",
    "            return -1\n",
    "\n",
    "class WeightComparator(Strategy):\n",
    "    def operation(self):\n",
    "        if human1.height > human2.height:\n",
    "            return 1\n",
    "        elif human1.height == human2.height:\n",
    "            return 0\n",
    "        elif human1.height < human2.height:\n",
    "            return -1\n",
    "            \n",
    "class Context:\n",
    "    \"\"\"\n",
    "    ConcreteStrategy をインスタンス変数として持つクラス\n",
    "    \"\"\"\n",
    "    def __init__(self, strategy: Strategy):\n",
    "        self.strategy = strategy\n",
    "\n",
    "    def operation(self):\n",
    "        # ConcreteStrategy のメソッドを呼ぶことで、一部の処理を委託する\n",
    "        self.strategy.operation()"
   ]
  },
  {
   "cell_type": "markdown",
   "id": "9c981ab4-f490-474b-9331-2cf42a9e59e0",
   "metadata": {},
   "source": [
    "## プラグインアーキテクチャ"
   ]
  },
  {
   "cell_type": "code",
   "execution_count": 1,
   "id": "e379a69b-d9a1-480f-8c94-5441c7afddb1",
   "metadata": {},
   "outputs": [
    {
     "ename": "SyntaxError",
     "evalue": "unexpected EOF while parsing (4006325200.py, line 4)",
     "output_type": "error",
     "traceback": [
      "\u001b[0;36m  Cell \u001b[0;32mIn[1], line 4\u001b[0;36m\u001b[0m\n\u001b[0;31m    @runta\u001b[0m\n\u001b[0m          ^\u001b[0m\n\u001b[0;31mSyntaxError\u001b[0m\u001b[0;31m:\u001b[0m unexpected EOF while parsing\n"
     ]
    }
   ],
   "source": [
    "from abc import abstractmethod\n",
    "from typing import runtime_checkable, Protocol\n",
    "\n",
    "@runtime_checkable\n",
    "class KitchenAssistantModule(Protocol):\n",
    "    ingredients: list[str]\n",
    "\n",
    "    # 抽象化メソッド\n",
    "    @abstractmethod\n",
    "    def get_recipes(self) -> list[str]:\n",
    "        raise NotImplementedError\n",
    "        \n",
    "    @abstractmethod\n",
    "    def prepare_dish(self, recipe: list[str]) -> Dish:\n",
    "        raise NotImplementedError"
   ]
  },
  {
   "cell_type": "code",
   "execution_count": null,
   "id": "c584c2ea-4693-4f04-8b04-5d173e85cecc",
   "metadata": {},
   "outputs": [],
   "source": [
    "import itertools\n",
    "from stevedore import extension\n",
    "\n",
    "Recipe = str\n",
    "Dish = str\n",
    "\n",
    "def get_inventory():\n",
    "    return {}\n",
    "\n",
    "def get_all_recipes() -> list[Recipe]:\n",
    "    mgr = extension.ExtensionManager(\n",
    "            namespace='ultimate_kitchen_assistant.recipe_maker',\n",
    "            invoke_on_load=True,\n",
    "        )\n",
    "\n",
    "    def get_recipes(extension):\n",
    "        return extension.obj.get_recipes()\n",
    "\n",
    "    return list(itertools.chain.from_iterable(mgr.map(get_recipes)))\n",
    "\n",
    "from stevedore import driver\n",
    "\n",
    "def make_dish(recipe: Recipe, module_name: str) -> Dish:\n",
    "    mgr = driver.DriverManager(\n",
    "        namespace='ultimate_kitchen_assistant.recipe_maker',\n",
    "        name=module_name,\n",
    "        invoke_on_load=True,\n",
    "    )\n",
    "\n",
    "    return mgr.driver.prepare_dish(get_inventory(), recipe)\n",
    "\n",
    "assert get_all_recipes() == [\"Linguine\", \"Spaghetti\", \"Taco\"]\n",
    "\n",
    "assert make_dish(\"Linguine\", \"pasta_maker\") == \"Prepared Linguine\""
   ]
  }
 ],
 "metadata": {
  "kernelspec": {
   "display_name": "Python 3 (ipykernel)",
   "language": "python",
   "name": "python3"
  },
  "language_info": {
   "codemirror_mode": {
    "name": "ipython",
    "version": 3
   },
   "file_extension": ".py",
   "mimetype": "text/x-python",
   "name": "python",
   "nbconvert_exporter": "python",
   "pygments_lexer": "ipython3",
   "version": "3.9.18"
  }
 },
 "nbformat": 4,
 "nbformat_minor": 5
}
