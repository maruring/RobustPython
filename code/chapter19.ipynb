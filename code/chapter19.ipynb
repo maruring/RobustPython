{
 "cells": [
  {
   "cell_type": "markdown",
   "id": "12721938-6778-4977-b9f1-1a9f7b2e3662",
   "metadata": {},
   "source": [
    "# 19章 プラガブルPython"
   ]
  },
  {
   "cell_type": "markdown",
   "id": "8ecbb746-68c0-4e17-b4a9-d976dad7f3bf",
   "metadata": {},
   "source": [
    "## Template Methodパターン"
   ]
  },
  {
   "cell_type": "code",
   "execution_count": 1,
   "id": "5ca7df8e-fc16-4ad6-a3d3-db13887b446a",
   "metadata": {},
   "outputs": [],
   "source": [
    "from collections.abc import Callable\n",
    "from dataclasses import dataclass"
   ]
  },
  {
   "cell_type": "code",
   "execution_count": null,
   "id": "9d199db6-98f3-4151-8551-38833e1db9a9",
   "metadata": {},
   "outputs": [],
   "source": [
    "@dataclass:\n",
    "class PizzaCreationFunctions:\n",
    "    prepare_ingredients: Callable\n",
    "    add_pre_bake_toppings: Callable\n",
    "    add_post_bake_toppings: Callable\n",
    "\n",
    "def create_pizza(pizza_create_functions: PizzaCreationFunctions):\n",
    "    pizza_create_functions.prepare_ingredients()\n",
    "    roll_out_pizza_base()\n",
    "    pizza_create_functions.add_pre_bake_toppings()\n",
    "    bake_pizza()\n",
    "    pizza_create_functions.add_post_bake_toppings()\n",
    "\n",
    "# pizzaを作る関数は独自で渡す\n",
    "pizza_create_functions = PizzaCreationFunctions(\n",
    "    prepare_ingredients=mix_zaatar,\n",
    "    add_pre_bake_toppings=add_meat_and_halloumi,\n",
    "    add_post_bake_toppings=drizzle_olive_oil\n",
    ")"
   ]
  }
 ],
 "metadata": {
  "kernelspec": {
   "display_name": "Python 3 (ipykernel)",
   "language": "python",
   "name": "python3"
  },
  "language_info": {
   "codemirror_mode": {
    "name": "ipython",
    "version": 3
   },
   "file_extension": ".py",
   "mimetype": "text/x-python",
   "name": "python",
   "nbconvert_exporter": "python",
   "pygments_lexer": "ipython3",
   "version": "3.9.18"
  }
 },
 "nbformat": 4,
 "nbformat_minor": 5
}
