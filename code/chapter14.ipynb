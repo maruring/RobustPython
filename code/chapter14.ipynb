{
 "cells": [
  {
   "cell_type": "markdown",
   "id": "51169c5a-c5eb-43e5-85a1-a873f0818e3f",
   "metadata": {},
   "source": [
    "# pydantic"
   ]
  },
  {
   "cell_type": "markdown",
   "id": "36f5ef80-56f3-4b7c-b300-dc2f4f328bf8",
   "metadata": {},
   "source": [
    "以下のようなyamlファイルがあったとする  \n",
    "また、各属性は何かしらの制限がある(nameは文字列で空白不可、レストランの席数は負ではないなど)  \n",
    "```\n",
    "name: Viafore's\r\n",
    "owner: Pat Viafore\r\n",
    "address: 123 Fake St. Fakington, FA 01234\r\n",
    "employees:\r\n",
    "  - name: Pat Viafore\r\n",
    "    position: Chef\r\n",
    "    payment_details:\r\n",
    "      bank_details:\r\n",
    "        routing_number: \"123456789\"\r\n",
    "        account_number: \"123456789012\"\r\n",
    "  - name: Made-up McGee\r\n",
    "    position: Server\r\n",
    "    payment_details:\r\n",
    "      bank_details:\r\n",
    "        routing_number: \"123456789\"\r\n",
    "        account_number: \"123456789012\"\r\n",
    "  - name: Fabricated Frank\r\n",
    "    position: Sous Chef\r\n",
    "    payment_details:\r\n",
    "      bank_details:\r\n",
    "        routing_number: \"123456789\"\r\n",
    "        account_number: \"123456789012\"\r\n",
    "  - name: Illusory Ilsa\r\n",
    "    position: Host\r\n",
    "    payment_details:\r\n",
    "      bank_details:\r\n",
    "        routing_number: \"123456789\"\r\n",
    "        account_number: \"123456789012\"\r\n",
    "dishes:\r\n",
    "  - name: Pasta And Sausage\r\n",
    "    price_in_cents: 1295\r\n",
    "    description: Rigatoni and Sausage with a Tomato-Garlic-Basil Sauce\r\n",
    "  - name: Pasta Bolognese\r\n",
    "    price_in_cents: 1495\r\n",
    "    description: Spaghetti with a rich Tomato and Beef Sauce\r\n",
    "  - name: Caprese Salad\r\n",
    "    price_in_cents: 795\r\n",
    "    description: Tomato, Buffalo Mozzarella, and Basil\r\n",
    "    picture: caprese.png\r\n",
    "number_o_seats: 12\r\n",
    "to_go: true\r\n",
    "delivery: false\n",
    "\n",
    "```"
   ]
  },
  {
   "cell_type": "markdown",
   "id": "e9c9a039-fcc7-4942-b3a3-38ceaf87ffe7",
   "metadata": {},
   "source": [
    "## TypeDicts\n",
    "欠損フィールドやデータ型が間違っていないかをチェックできる"
   ]
  },
  {
   "cell_type": "code",
   "execution_count": 2,
   "id": "a73a97c2-1265-4143-bfb6-7b145c984b89",
   "metadata": {},
   "outputs": [],
   "source": [
    "from typing import Literal,TypedDict,Union\n",
    "class AccountAndRoutingNumber(TypedDict):\n",
    "    account_number: str\n",
    "    routing_number: str\n",
    "\n",
    "class BankDetails(TypedDict):\n",
    "    bank_details: AccountAndRoutingNumber\n",
    "\n",
    "class Address(TypedDict):\n",
    "    address: str\n",
    "\n",
    "AddressOrBankDetails = Union[Address, BankDetails]\n",
    "\n",
    "Position = Literal['Chef', 'Sous Chef', 'Host',\n",
    "                   'Server', 'Delivery Driver']\n",
    "\n",
    "class Dish(TypedDict):\n",
    "    name: str\n",
    "    price_in_cents: int\n",
    "    description: str\n",
    "\n",
    "class DishWithOptionalPicture(Dish, TypedDict, total=False):\n",
    "    picture: str\n",
    "\n",
    "class Employee(TypedDict):\n",
    "    name: str\n",
    "    position: Position\n",
    "    payment_details: AddressOrBankDetails\n",
    "\n",
    "class Restaurant(TypedDict):\n",
    "    name: str\n",
    "    owner: str\n",
    "    address: str\n",
    "    employees: list[Employee]\n",
    "    dishes: list[Dish]\n",
    "    number_of_seats: int\n",
    "    to_go: bool\n",
    "    delivery: bool\n"
   ]
  },
  {
   "cell_type": "code",
   "execution_count": 3,
   "id": "308429fc-f323-47b9-b4cb-fcfb156e116c",
   "metadata": {},
   "outputs": [],
   "source": [
    "# yamlファイルを読み込む関数\n",
    "import yaml\n",
    "def load_restaurant(filename: str) -> Restaurant:\n",
    "    with open(filename) as yaml_file:\n",
    "        return yaml.safe_load(yaml_file)"
   ]
  },
  {
   "cell_type": "code",
   "execution_count": null,
   "id": "cf10b90d-1477-4025-b66d-335dea2f3cce",
   "metadata": {},
   "outputs": [],
   "source": [
    "load_restaurant(filename=\"../document/restaurant.yaml\")"
   ]
  }
 ],
 "metadata": {
  "kernelspec": {
   "display_name": "Python 3 (ipykernel)",
   "language": "python",
   "name": "python3"
  },
  "language_info": {
   "codemirror_mode": {
    "name": "ipython",
    "version": 3
   },
   "file_extension": ".py",
   "mimetype": "text/x-python",
   "name": "python",
   "nbconvert_exporter": "python",
   "pygments_lexer": "ipython3",
   "version": "3.9.18"
  }
 },
 "nbformat": 4,
 "nbformat_minor": 5
}
