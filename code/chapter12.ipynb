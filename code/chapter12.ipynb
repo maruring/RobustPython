{
 "cells": [
  {
   "cell_type": "markdown",
   "metadata": {},
   "source": [
    "# 部分型"
   ]
  },
  {
   "cell_type": "markdown",
   "metadata": {},
   "source": [
    "## 継承"
   ]
  },
  {
   "cell_type": "code",
   "execution_count": null,
   "metadata": {},
   "outputs": [],
   "source": [
    "# 親クラス\n",
    "class Restaurant:\n",
    "    def __init__(self,\n",
    "                 name: str,\n",
    "                 location: str,\n",
    "                 employees: list,\n",
    "                 menu: list,\n",
    "                 finaces: int):\n",
    "        self.name = name\n",
    "        self.location = location\n",
    "        self.employees = employees\n",
    "        self.menu = menu\n",
    "        self.finaces = finaces\n",
    "    \n",
    "    def change_location(self, new_location: str):\n",
    "        self.location = new_location"
   ]
  },
  {
   "cell_type": "code",
   "execution_count": null,
   "metadata": {},
   "outputs": [],
   "source": [
    "# 子クラス\n",
    "class FoodTruck(Restaurant):\n",
    "        def __init__(self,\n",
    "                 name: str,\n",
    "                 location: str,\n",
    "                 employees: list,\n",
    "                 menu: list,\n",
    "                 finaces: int):\n",
    "            super().__init__(name, location, employees, menu, finaces)\n",
    "        \n",
    "        # change_locationをオーバーライドする\n",
    "        def change_location(self, new_location: str):\n",
    "              schedule_auto_drive_task(new_location)\n",
    "              super().change_location(new_location)"
   ]
  },
  {
   "cell_type": "markdown",
   "metadata": {},
   "source": [
    "## 置換可能性"
   ]
  },
  {
   "cell_type": "code",
   "execution_count": 1,
   "metadata": {},
   "outputs": [],
   "source": [
    "class Rectangle:\n",
    "    \"\"\"長方形\"\"\"\n",
    "    def __init__(self, height: int, width: int):\n",
    "        self._height = height\n",
    "        self._width = width\n",
    "    \n",
    "    def set_width(self, new_width: int):\n",
    "        self._width = new_width\n",
    "    \n",
    "    def set_height(self, new_height: int):\n",
    "        self._height = new_height\n",
    "    \n",
    "    def get_width(self) -> int:\n",
    "        return self._width\n",
    "    \n",
    "    def get_height(self) -> int:\n",
    "        return self._height"
   ]
  },
  {
   "cell_type": "code",
   "execution_count": 2,
   "metadata": {},
   "outputs": [],
   "source": [
    "class Square(Rectangle):\n",
    "    \"\"\"正方形\"\"\"\n",
    "    def __init__(self, length: int):\n",
    "        super().__init__(length, length)\n",
    "    \n",
    "    def set_side_length(self, new_length):\n",
    "        super().set_height(new_length)\n",
    "        super().set_width(new_length)\n",
    "    \n",
    "    def set_width(self, new_width: int):\n",
    "        self.set_side_length(new_width)\n",
    "    \n",
    "    def set_height(self, new_height: int):\n",
    "        self.set_side_length(new_height)"
   ]
  },
  {
   "cell_type": "code",
   "execution_count": 3,
   "metadata": {},
   "outputs": [],
   "source": [
    "# 以下のようなRectangleを引数をする関数を考える\n",
    "def double_width(rectangle: Rectangle):\n",
    "    \"\"\"幅だけを二倍にする関数\n",
    "    \"\"\"\n",
    "    old_height = rectangle._height\n",
    "    rectangle.set_width(rectangle.get_width() * 2)\n",
    "    # 高さが変わっていないことを確認する\n",
    "    assert old_height == rectangle.get_height()"
   ]
  },
  {
   "cell_type": "code",
   "execution_count": 4,
   "metadata": {},
   "outputs": [],
   "source": [
    "rectangle = Rectangle(width=10, height=15)\n",
    "square = Square(length=10)"
   ]
  },
  {
   "cell_type": "code",
   "execution_count": 5,
   "metadata": {},
   "outputs": [],
   "source": [
    "double_width(rectangle=rectangle)"
   ]
  },
  {
   "cell_type": "code",
   "execution_count": 6,
   "metadata": {},
   "outputs": [
    {
     "ename": "AssertionError",
     "evalue": "",
     "output_type": "error",
     "traceback": [
      "\u001b[0;31m---------------------------------------------------------------------------\u001b[0m",
      "\u001b[0;31mAssertionError\u001b[0m                            Traceback (most recent call last)",
      "Cell \u001b[0;32mIn[6], line 1\u001b[0m\n\u001b[0;32m----> 1\u001b[0m \u001b[43mdouble_width\u001b[49m\u001b[43m(\u001b[49m\u001b[43mrectangle\u001b[49m\u001b[38;5;241;43m=\u001b[39;49m\u001b[43msquare\u001b[49m\u001b[43m)\u001b[49m\n",
      "Cell \u001b[0;32mIn[3], line 8\u001b[0m, in \u001b[0;36mdouble_width\u001b[0;34m(rectangle)\u001b[0m\n\u001b[1;32m      6\u001b[0m rectangle\u001b[38;5;241m.\u001b[39mset_width(rectangle\u001b[38;5;241m.\u001b[39mget_width() \u001b[38;5;241m*\u001b[39m \u001b[38;5;241m2\u001b[39m)\n\u001b[1;32m      7\u001b[0m \u001b[38;5;66;03m# 高さが変わっていないことを確認する\u001b[39;00m\n\u001b[0;32m----> 8\u001b[0m \u001b[38;5;28;01massert\u001b[39;00m old_height \u001b[38;5;241m==\u001b[39m rectangle\u001b[38;5;241m.\u001b[39mget_height()\n",
      "\u001b[0;31mAssertionError\u001b[0m: "
     ]
    }
   ],
   "source": [
    "# squareの場合は幅を変更すると強制的に高さも変化してしまうのでアサーションエラーを起こす(バグ)\n",
    "# また、squareはrectangleでもあるので型チェックでエラーが出ない\n",
    "double_width(rectangle=square)"
   ]
  }
 ],
 "metadata": {
  "kernelspec": {
   "display_name": "Python 3 (ipykernel)",
   "language": "python",
   "name": "python3"
  },
  "language_info": {
   "codemirror_mode": {
    "name": "ipython",
    "version": 3
   },
   "file_extension": ".py",
   "mimetype": "text/x-python",
   "name": "python",
   "nbconvert_exporter": "python",
   "pygments_lexer": "ipython3",
   "version": "3.9.17"
  }
 },
 "nbformat": 4,
 "nbformat_minor": 4
}
