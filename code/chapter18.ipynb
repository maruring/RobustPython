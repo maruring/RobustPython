{
 "cells": [
  {
   "cell_type": "markdown",
   "id": "6ad6fbd7-5208-4606-89cb-e64628bc7ee1",
   "metadata": {},
   "source": [
    "# 18章 イベント駆動アーキテクチャ"
   ]
  },
  {
   "cell_type": "code",
   "execution_count": 1,
   "id": "5fbd6258-bfce-41f4-81ae-345d2e977c58",
   "metadata": {},
   "outputs": [],
   "source": [
    "from pydantic.dataclasses import dataclass\n",
    "from pubsub import pub"
   ]
  },
  {
   "cell_type": "markdown",
   "id": "ae81ff14-61f1-4ac2-b4d3-f6826e0a107e",
   "metadata": {},
   "source": [
    "## 単純イベント"
   ]
  },
  {
   "cell_type": "markdown",
   "id": "3306d7d3-3ab7-44cf-b0ae-f330eca42c28",
   "metadata": {},
   "source": [
    "### メッセージブローカーの使用(PyPubSub)"
   ]
  },
  {
   "cell_type": "code",
   "execution_count": 6,
   "id": "7df1d7d4-9946-4ab2-9728-fd3e7115cbe1",
   "metadata": {},
   "outputs": [
    {
     "data": {
      "text/plain": [
       "(<pubsub.core.listener.Listener at 0x7f92b996a880>, True)"
      ]
     },
     "execution_count": 6,
     "metadata": {},
     "output_type": "execute_result"
    }
   ],
   "source": [
    "@dataclass\n",
    "class Email:\n",
    "    address: str\n",
    "    name: str\n",
    "    message: str\n",
    "\n",
    "# トピックをサブスクライブするために、トピックと呼び出してほしい関数を定義する\n",
    "def notify_customer_send_email_done(email: Email):\n",
    "    print(email.adress)\n",
    "\n",
    "pub.subscribe(notify_customer_send_email_done, \"send-email\")"
   ]
  },
  {
   "cell_type": "code",
   "execution_count": 7,
   "id": "7c91c5c0-b90e-4315-b7fd-590c0670ee73",
   "metadata": {},
   "outputs": [],
   "source": [
    "# トピックをパブリッシュするコード\n",
    "def complete_send_email(email: Email):\n",
    "    pub.publish(\"send-email\", email)"
   ]
  },
  {
   "cell_type": "markdown",
   "id": "c180a390-1d30-4d1a-838b-60fadceb2b06",
   "metadata": {},
   "source": [
    "### Observerパターン"
   ]
  },
  {
   "cell_type": "code",
   "execution_count": null,
   "id": "cd5a9c81-9222-43db-a1c0-3ecf086a9f63",
   "metadata": {},
   "outputs": [],
   "source": [
    "from collections.abc import Callable\n",
    "\n",
    "def notify_customer_send_email_done(email: Email, observers: list[Callable[Order]]):\n",
    "    email_done(email)\n",
    "    for observer_func in observers:\n",
    "        observer_func(email)\n",
    "\n",
    "# 今回の例だと新しいオブザーバーは引数として渡されるリストに入れるだけで追加できる"
   ]
  },
  {
   "cell_type": "code",
   "execution_count": 1,
   "id": "6ed3f895-f503-48ad-bca5-78904b95ddeb",
   "metadata": {},
   "outputs": [],
   "source": [
    "import rx"
   ]
  },
  {
   "cell_type": "code",
   "execution_count": 2,
   "id": "6b253b01-1719-4c69-be76-5f2d7584a447",
   "metadata": {},
   "outputs": [],
   "source": [
    "# オブザーバーはオブザーバブルをサブスクライブできる\n",
    "from dataclasses import dataclass\n",
    "from enum import Enum\n",
    "\n",
    "class Direction(Enum):\n",
    "    NORTH = \"NORTH\"\n",
    "    WEST = \"WEST\"\n",
    "    SOUTH = \"SOUTH\"\n",
    "    EAST = \"EAST\"\n",
    "\n",
    "@dataclass\n",
    "class LocationData:\n",
    "    x: int\n",
    "    y: int\n",
    "    z: int\n",
    "\n",
    "@dataclass\n",
    "class BatteryLevel:\n",
    "    percent: int\n",
    "\n",
    "@dataclass\n",
    "class WindData:\n",
    "    speed: int\n",
    "    direction: Direction\n",
    "\n",
    "@dataclass\n",
    "class CurrentWeight:\n",
    "    grams: int\n",
    "\n",
    "def is_close_to_restaurant(*args):\n",
    "    return False\n",
    "\n",
    "observable = rx.of(\n",
    "    LocationData(x=3, y=12, z=40),\n",
    "    BatteryLevel(percent=95),\n",
    "    BatteryLevel(percent=94),\n",
    "    WindData(speed=15, direction=Direction.NORTH),\n",
    "    LocationData(x=3, y=12, z=35),\n",
    "    LocationData(x=4, y=12, z=32),\n",
    "    # ... snip 100s of events\n",
    "    BatteryLevel(percent=72),\n",
    "    CurrentWeight(grams=300),\n",
    "    CurrentWeight(grams=100)\n",
    ")"
   ]
  },
  {
   "cell_type": "code",
   "execution_count": null,
   "id": "398a886f-c26b-4821-87c5-5d565b774796",
   "metadata": {},
   "outputs": [],
   "source": [
    "#フィルタリング、変換、計算のパイプラインの実装が可能\n",
    "val = None\n",
    "def save_value(x):\n",
    "    global val\n",
    "    val = x\n",
    "    \n",
    "def save_average_weight(data):\n",
    "    save_value(data)\n",
    "\n",
    "def save_max_altitude(data):\n",
    "    save_value(data)\n",
    "\n",
    "import rx.operators\n",
    "\n",
    "get_average_weight = observable.pipe(\n",
    "    rx.operators.filter(lambda data: isinstance(data, CurrentWeight)),\n",
    "    rx.operators.map(lambda cw: cw.grams),\n",
    "    rx.operators.average()\n",
    ")\n",
    "\n",
    "get_average_weight.subscribe(save_average_weight)\n",
    "\n",
    "assert val == 200\n",
    "\n",
    "get_max_altitude = observable.pipe(\n",
    "    rx.operators.skip_while(is_close_to_restaurant),\n",
    "    rx.operators.filter(lambda data: isinstance(data, LocationData)),\n",
    "    rx.operators.map(lambda loc: loc.z),\n",
    "    rx.operators.max()\n",
    ")\n",
    "\n",
    "get_max_altitude.subscribe(save_max_altitude)\n",
    "\n",
    "assert val == 40"
   ]
  }
 ],
 "metadata": {
  "kernelspec": {
   "display_name": "Python 3 (ipykernel)",
   "language": "python",
   "name": "python3"
  },
  "language_info": {
   "codemirror_mode": {
    "name": "ipython",
    "version": 3
   },
   "file_extension": ".py",
   "mimetype": "text/x-python",
   "name": "python",
   "nbconvert_exporter": "python",
   "pygments_lexer": "ipython3",
   "version": "3.9.18"
  }
 },
 "nbformat": 4,
 "nbformat_minor": 5
}
