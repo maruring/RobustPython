{
 "cells": [
  {
   "cell_type": "markdown",
   "id": "6ad6fbd7-5208-4606-89cb-e64628bc7ee1",
   "metadata": {},
   "source": [
    "# 18章 イベント駆動アーキテクチャ"
   ]
  },
  {
   "cell_type": "code",
   "execution_count": 2,
   "id": "5fbd6258-bfce-41f4-81ae-345d2e977c58",
   "metadata": {},
   "outputs": [],
   "source": [
    "from pydantic.dataclasses import dataclass\n",
    "from pubsub import pub"
   ]
  },
  {
   "cell_type": "markdown",
   "id": "ae81ff14-61f1-4ac2-b4d3-f6826e0a107e",
   "metadata": {},
   "source": [
    "## 単純イベント"
   ]
  },
  {
   "cell_type": "markdown",
   "id": "3306d7d3-3ab7-44cf-b0ae-f330eca42c28",
   "metadata": {},
   "source": [
    "### メッセージブローカーの使用(PyPubSub)"
   ]
  },
  {
   "cell_type": "code",
   "execution_count": 6,
   "id": "7df1d7d4-9946-4ab2-9728-fd3e7115cbe1",
   "metadata": {},
   "outputs": [
    {
     "data": {
      "text/plain": [
       "(<pubsub.core.listener.Listener at 0x7f92b996a880>, True)"
      ]
     },
     "execution_count": 6,
     "metadata": {},
     "output_type": "execute_result"
    }
   ],
   "source": [
    "@dataclass\n",
    "class Email:\n",
    "    address: str\n",
    "    name: str\n",
    "    message: str\n",
    "\n",
    "# トピックをサブスクライブするために、トピックと呼び出してほしい関数を定義する\n",
    "def notify_customer_send_email_done(email: Email):\n",
    "    print(email.adress)\n",
    "\n",
    "pub.subscribe(notify_customer_send_email_done, \"send-email\")"
   ]
  },
  {
   "cell_type": "code",
   "execution_count": 7,
   "id": "7c91c5c0-b90e-4315-b7fd-590c0670ee73",
   "metadata": {},
   "outputs": [],
   "source": [
    "# トピックをパブリッシュするコード\n",
    "def complete_send_email(email: Email):\n",
    "    pub.publish(\"send-email\", email)"
   ]
  },
  {
   "cell_type": "code",
   "execution_count": null,
   "id": "bea5c4a8-7e95-4cd2-ae79-3582c437708f",
   "metadata": {},
   "outputs": [],
   "source": []
  }
 ],
 "metadata": {
  "kernelspec": {
   "display_name": "Python 3 (ipykernel)",
   "language": "python",
   "name": "python3"
  },
  "language_info": {
   "codemirror_mode": {
    "name": "ipython",
    "version": 3
   },
   "file_extension": ".py",
   "mimetype": "text/x-python",
   "name": "python",
   "nbconvert_exporter": "python",
   "pygments_lexer": "ipython3",
   "version": "3.9.18"
  }
 },
 "nbformat": 4,
 "nbformat_minor": 5
}
