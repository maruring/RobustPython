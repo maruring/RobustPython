{
 "cells": [
  {
   "cell_type": "markdown",
   "metadata": {},
   "source": [
    "# 部分型"
   ]
  },
  {
   "cell_type": "markdown",
   "metadata": {},
   "source": [
    "## 継承"
   ]
  },
  {
   "cell_type": "code",
   "execution_count": null,
   "metadata": {},
   "outputs": [],
   "source": [
    "# 親クラス\n",
    "class Restaurant:\n",
    "    def __init__(self,\n",
    "                 name: str,\n",
    "                 location: str,\n",
    "                 employees: list,\n",
    "                 menu: list,\n",
    "                 finaces: int):\n",
    "        self.name = name\n",
    "        self.location = location\n",
    "        self.employees = employees\n",
    "        self.menu = menu\n",
    "        self.finaces = finaces\n",
    "    \n",
    "    def change_location(self, new_location: str):\n",
    "        self.location = new_location"
   ]
  },
  {
   "cell_type": "code",
   "execution_count": null,
   "metadata": {},
   "outputs": [],
   "source": [
    "# 子クラス\n",
    "class FoodTruck(Restaurant):\n",
    "        def __init__(self,\n",
    "                 name: str,\n",
    "                 location: str,\n",
    "                 employees: list,\n",
    "                 menu: list,\n",
    "                 finaces: int):\n",
    "            super().__init__(name, location, employees, menu, finaces)\n",
    "        \n",
    "        # change_locationをオーバーライドする\n",
    "        def change_location(self, new_location: str):\n",
    "              schedule_auto_drive_task(new_location)\n",
    "              super().change_location(new_location)"
   ]
  }
 ],
 "metadata": {
  "language_info": {
   "name": "python"
  }
 },
 "nbformat": 4,
 "nbformat_minor": 2
}
