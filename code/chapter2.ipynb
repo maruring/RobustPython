{
 "cells": [
  {
   "cell_type": "markdown",
   "metadata": {},
   "source": [
    "## Pythonのデータ型入門"
   ]
  },
  {
   "cell_type": "code",
   "execution_count": null,
   "metadata": {},
   "outputs": [],
   "source": [
    "import datetime"
   ]
  },
  {
   "cell_type": "code",
   "execution_count": null,
   "metadata": {},
   "outputs": [],
   "source": [
    "# キッチンの開店と閉店を処理するコードベース\n",
    "\n",
    "# 悪い例\n",
    "def close_kitchen_if_past_cutoff_time(point_in_time):\n",
    "    \"\"\"閉店時間を変更できる機能\n",
    "    \"\"\"\n",
    "    if point_in_time >= close_time():\n",
    "        close_kitchen()\n",
    "        log_time_closed(point_in_time):"
   ]
  },
  {
   "cell_type": "markdown",
   "metadata": {},
   "source": [
    "引数のpoint_in_timeが何を意味しているのかがわからない  \n",
    "データ型で自分の意図を明確にしたほうがいい"
   ]
  },
  {
   "cell_type": "code",
   "execution_count": null,
   "metadata": {},
   "outputs": [],
   "source": [
    "# 型アノテーションを使って引数が何であるかを説明する\n",
    "\n",
    "def close_kitchen_if_past_cutoff_time(point_in_time: datetime.datetime):\n",
    "    \"\"\"閉店時間を変更できる機能\n",
    "    \"\"\"\n",
    "    if point_in_time >= close_time():\n",
    "        close_kitchen()\n",
    "        log_time_closed(point_in_time):"
   ]
  }
 ],
 "metadata": {
  "language_info": {
   "name": "python"
  },
  "orig_nbformat": 4
 },
 "nbformat": 4,
 "nbformat_minor": 2
}
