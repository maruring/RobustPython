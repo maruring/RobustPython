{
 "cells": [
  {
   "cell_type": "markdown",
   "id": "62cb5038-6269-48c8-9524-ec1ce18c3951",
   "metadata": {},
   "source": [
    "# データクラス"
   ]
  },
  {
   "cell_type": "markdown",
   "id": "bd21d302-4b4b-491d-96d0-483c39353086",
   "metadata": {},
   "source": [
    "## 作り方"
   ]
  },
  {
   "cell_type": "code",
   "execution_count": 3,
   "id": "703290b8-2957-4cb9-96c6-fc5f8d1a0507",
   "metadata": {},
   "outputs": [],
   "source": [
    "from dataclasses import dataclass\n",
    "import datetime\n",
    "from enum import auto, Enum"
   ]
  },
  {
   "cell_type": "code",
   "execution_count": 6,
   "id": "65283fe1-4a7a-4717-939e-5ee895c53c1b",
   "metadata": {},
   "outputs": [],
   "source": [
    "@dataclass\n",
    "class Human:\n",
    "    name: str\n",
    "    weight: float\n",
    "    height: int"
   ]
  },
  {
   "cell_type": "code",
   "execution_count": 7,
   "id": "98947933-4230-44b0-a971-ff97937df793",
   "metadata": {},
   "outputs": [
    {
     "name": "stdout",
     "output_type": "stream",
     "text": [
      "<class '__main__.Human'>\n"
     ]
    }
   ],
   "source": [
    "print(Human)"
   ]
  },
  {
   "cell_type": "markdown",
   "id": "2413dde0-edb7-4788-87ab-8aacbcb7a3ec",
   "metadata": {},
   "source": [
    " データclassはネストすることができる\n",
    " 味噌汁のレシピを表すクラスを表示することもできる"
   ]
  },
  {
   "cell_type": "code",
   "execution_count": null,
   "id": "194412bd",
   "metadata": {},
   "outputs": [],
   "source": [
    "\n",
    "# 大さじ、小さじの単位\n",
    "class TablespoonMeasure(Enum):\n",
    "    OSAJI = auto()\n",
    "    KOSAJI = auto()\n",
    "    CUP = auto()\n",
    "\n",
    "# メイン具材\n",
    "class Broth(Enum):\n",
    "    FU = auto()\n",
    "    TOFU = auto()\n",
    "    WAKAME = auto()\n",
    "\n",
    "# 追加具材\n",
    "@dataclass(frozen=True) # frozen = True でイミュータブルを表す\n",
    "class Ingredient:\n",
    "    name: str\n",
    "    amount: float = 1\n",
    "    units: TablespoonMeasure = TablespoonMeasure.CUP\n",
    "\n",
    "# レシピ\n",
    "@dataclass\n",
    "class Recipe:\n",
    "    aromatics: set[Ingredient] #香辛料\n",
    "    broth : Broth\n",
    "    vegetables: set[Ingredient] #野菜\n",
    "    meats: set[Ingredient]\n",
    "    time_to_cook: datetime.timedelta"
   ]
  },
  {
   "cell_type": "code",
   "execution_count": null,
   "id": "92a50824",
   "metadata": {},
   "outputs": [],
   "source": [
    "miso = Ingredient(\"味噌\", 3, TablespoonMeasure.OSAJI)\n",
    "pig_meat = Ingredient(\"豚肉\", 5, TablespoonMeasure.CUP)\n",
    "onions = Ingredient(\"玉ねぎ\", 1, TablespoonMeasure.CUP)\n",
    "\n",
    "# レシピクラスのインスタンス化\n",
    "pig_miso_soup = Recipe(aromatics=miso, broth=Broth.TOFU, vegetables=onions, meats=pig_meat, time_to_cook=datetime.timedelta(minutes=30))\n",
    "# 要素の確認も可能\n",
    "print(pig_miso_soup.meats)"
   ]
  },
  {
   "cell_type": "code",
   "execution_count": null,
   "id": "f677fd71",
   "metadata": {},
   "outputs": [],
   "source": [
    "# メソッドを追加することもできる\n",
    "# 例えば、豆腐アレルギーの場合はワカメを代わりに入れる場合\n",
    "# レシピ\n",
    "@dataclass\n",
    "class Recipe:\n",
    "    aromatics: set[Ingredient] #香辛料\n",
    "    broth : Broth\n",
    "    vegetables: set[Ingredient] #野菜\n",
    "    meats: set[Ingredient]\n",
    "    time_to_cook: datetime.timedelta\n",
    "\n",
    "    def make_wakame(self):\n",
    "        self.broth.clear()\n",
    "        self.broth = Broth.WAKAME"
   ]
  },
  {
   "cell_type": "code",
   "execution_count": null,
   "id": "b95698ac",
   "metadata": {},
   "outputs": [],
   "source": []
  }
 ],
 "metadata": {
  "kernelspec": {
   "display_name": "Python 3 (ipykernel)",
   "language": "python",
   "name": "python3"
  },
  "language_info": {
   "codemirror_mode": {
    "name": "ipython",
    "version": 3
   },
   "file_extension": ".py",
   "mimetype": "text/x-python",
   "name": "python",
   "nbconvert_exporter": "python",
   "pygments_lexer": "ipython3",
   "version": "3.9.17"
  }
 },
 "nbformat": 4,
 "nbformat_minor": 5
}
