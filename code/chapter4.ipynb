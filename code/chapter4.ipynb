{
 "cells": [
  {
   "cell_type": "markdown",
   "metadata": {},
   "source": [
    "# 制約型"
   ]
  },
  {
   "cell_type": "markdown",
   "metadata": {},
   "source": [
    "## Optional型"
   ]
  },
  {
   "cell_type": "code",
   "execution_count": null,
   "metadata": {},
   "outputs": [],
   "source": [
    "def create_hot_dog():\n",
    "    \"\"\"以下の順でホットドッグを顧客に提供する\n",
    "    空の皿→皿にパンをのける→パンにフランクフルトをはさむ→ケチャップとマスタードをかける→顧客に提供する\n",
    "    \"\"\"\n",
    "    bun = dispense_bun()\n",
    "    frank = dispense_frank()\n",
    "    hot_dog = bun.add_frank()\n",
    "    ketchup = dispense_ketchup()"
   ]
  },
  {
   "cell_type": "markdown",
   "metadata": {},
   "source": [
    "上記のような関数がある場合、以下のようなエラーが考えられる\n",
    " - 材料切れ\n",
    " - 調理中の注文キャンセル\n",
    " - 停電\n",
    "\n",
    "create_hot_dog内の関数であるdispense_bun()でerrorが発生した場合、Noneを返却するようにしていた場合  \n",
    "bun.add_frank()でエラーが発生する  \n",
    "返却された値がNoneである場合の処理をif文で書いてもいいか、非常に長いコードになってしまう  \n",
    "例外を用いてもいいが、結局のところexceptブロックを書く必要がある  "
   ]
  },
  {
   "cell_type": "code",
   "execution_count": null,
   "metadata": {},
   "outputs": [],
   "source": [
    "from typing import Optional"
   ]
  },
  {
   "cell_type": "markdown",
   "metadata": {},
   "source": [
    "Optionalは関数がNoneを返却する可能性を示すことができる  \n",
    "関数を使用して空配列が返却された場合、関数の使用者は「何かしらのErrorが起きている」 or 「何も取得できなかった」の2択で迷うことになる  \n",
    "Optional型を使用すれば、Noneが返却された場合には「何かしらのErrorが起きている」と判断できる  \n",
    "逆にOptionalを使用していない関数でNoneは返却してはならないというヒントを開発者に教えてことができる  "
   ]
  },
  {
   "cell_type": "code",
   "execution_count": null,
   "metadata": {},
   "outputs": [],
   "source": [
    "# 返却値はint型かNoneのどちらかになること示す\n",
    "def create_number(num: int) -> Optional[int]:\n",
    "    if num > 10:\n",
    "        return 1\n",
    "    else:\n",
    "        return None"
   ]
  },
  {
   "cell_type": "markdown",
   "metadata": {},
   "source": [
    "## Union型"
   ]
  },
  {
   "cell_type": "code",
   "execution_count": null,
   "metadata": {},
   "outputs": [],
   "source": [
    "# Unionによってget_menu関数の返却値はint型かstr型であることが分かる\n",
    "def get_menu(menu_no: int) -> Union[int, str]:\n",
    "    if menu_no > 10:\n",
    "        menu = 5\n",
    "    else:\n",
    "        menu = \"other\"\n",
    "    \n",
    "    return menu"
   ]
  },
  {
   "cell_type": "markdown",
   "metadata": {},
   "source": [
    "## Literal型"
   ]
  },
  {
   "cell_type": "code",
   "execution_count": null,
   "metadata": {},
   "outputs": [],
   "source": [
    "# 以下のようなデータクラスを考える\n",
    "@dataclass\n",
    "class Hoge:\n",
    "    error_code: int\n",
    "    accept: bool"
   ]
  },
  {
   "cell_type": "code",
   "execution_count": null,
   "metadata": {},
   "outputs": [],
   "source": [
    "errorコードはint型なので、ほぼ無制限に状態が考えられる\n",
    "システム内の設計上0~5までの値しか考えらない場合は以下のようにして、状態を制限する\n",
    "python3.8以上で導入されている"
   ]
  },
  {
   "cell_type": "code",
   "execution_count": null,
   "metadata": {},
   "outputs": [],
   "source": [
    "@dataclass\n",
    "class Hoge:\n",
    "    error_code: Literal[0,1,2,3,4,5]\n",
    "    accept: bool"
   ]
  },
  {
   "cell_type": "markdown",
   "metadata": {},
   "source": [
    "## Annotated型"
   ]
  },
  {
   "cell_type": "markdown",
   "metadata": {},
   "source": [
    "ValueRangeやMatchesRegexは組み込みのデータ型ではないので、使用できない  \n",
    "Annotated変数の一部として、独自のメタデータを書く必要がある"
   ]
  },
  {
   "cell_type": "code",
   "execution_count": null,
   "metadata": {},
   "outputs": [],
   "source": [
    "x: Annotated[int, ValueRange(3,5)]\n",
    "y: Annotated[str, MatchesRegex\"[0-9]{4}\"]"
   ]
  }
 ],
 "metadata": {
  "language_info": {
   "name": "python"
  },
  "orig_nbformat": 4
 },
 "nbformat": 4,
 "nbformat_minor": 2
}
