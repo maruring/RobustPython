{
 "cells": [
  {
   "cell_type": "markdown",
   "metadata": {},
   "source": [
    "# 制約型"
   ]
  },
  {
   "cell_type": "markdown",
   "metadata": {},
   "source": [
    "## Optional型"
   ]
  },
  {
   "cell_type": "code",
   "execution_count": null,
   "metadata": {},
   "outputs": [],
   "source": [
    "def create_hot_dog():\n",
    "    \"\"\"以下の順でホットドッグを顧客に提供する\n",
    "    空の皿→皿にパンをのける→パンにフランクフルトをはさむ→ケチャップとマスタードをかける→顧客に提供する\n",
    "    \"\"\"\n",
    "    bun = dispense_bun()\n",
    "    frank = dispense_frank()\n",
    "    hot_dog = bun.add_frank()\n",
    "    ketchup = dispense_ketchup()"
   ]
  },
  {
   "cell_type": "markdown",
   "metadata": {},
   "source": [
    "上記のような関数がある場合、以下のようなエラーが考えられる\n",
    " - 材料切れ\n",
    " - 調理中の注文キャンセル\n",
    " - 停電\n",
    "\n",
    "create_hot_dog内の関数であるdispense_bun()でerrorが発生した場合、Noneを返却するようにしていた場合  \n",
    "bun.add_frank()でエラーが発生する  \n",
    "返却された値がNoneである場合の処理をif文で書いてもいいか、非常に長いコードになってしまう  \n",
    "例外を用いてもいいが、結局のところexceptブロックを書く必要がある  "
   ]
  },
  {
   "cell_type": "code",
   "execution_count": null,
   "metadata": {},
   "outputs": [],
   "source": [
    "from typing import Optional"
   ]
  },
  {
   "cell_type": "markdown",
   "metadata": {},
   "source": [
    "Optionalは関数がNoneを返却する可能性を示すことができる  \n",
    "関数を使用して空配列が返却された場合、関数の使用者は「何かしらのErrorが起きている」 or 「何も取得できなかった」の2択で迷うことになる  \n",
    "Optional型を使用すれば、Noneが返却された場合には「何かしらのErrorが起きている」と判断できる  \n",
    "逆にOptionalを使用していない関数でNoneは返却してはならないというヒントを開発者に教えてことができる  "
   ]
  },
  {
   "cell_type": "code",
   "execution_count": null,
   "metadata": {},
   "outputs": [],
   "source": [
    "# 返却値はint型かNoneのどちらかになること示す\n",
    "def create_number(num: int) -> Optional[int]:\n",
    "    if num > 10:\n",
    "        return 1\n",
    "    else:\n",
    "        return None"
   ]
  }
 ],
 "metadata": {
  "language_info": {
   "name": "python"
  },
  "orig_nbformat": 4
 },
 "nbformat": 4,
 "nbformat_minor": 2
}
