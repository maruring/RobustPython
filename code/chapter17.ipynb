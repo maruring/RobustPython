{
 "cells": [
  {
   "cell_type": "markdown",
   "id": "6c577357-d33d-4248-8e95-1e5222515c88",
   "metadata": {},
   "source": [
    "# chapter17 小規模な部品のコンポーザビリティ"
   ]
  },
  {
   "cell_type": "markdown",
   "id": "6dc7d4b2-6fda-489c-b1e8-dc020475f3c0",
   "metadata": {},
   "source": [
    "## デコレータ\n",
    "他の関数をラップして、その関数を実行する前後に実行しなければならない振る舞いを定義できる関数"
   ]
  },
  {
   "cell_type": "code",
   "execution_count": 1,
   "id": "fd1df3b2-bf9c-43cc-82de-88a3275a9b30",
   "metadata": {},
   "outputs": [],
   "source": [
    "import functools\n",
    "from collections.abc import Callable\n",
    "import datetime"
   ]
  },
  {
   "cell_type": "code",
   "execution_count": 2,
   "id": "60dfb29d-f803-4972-b7b8-ff2a41f1cd01",
   "metadata": {},
   "outputs": [
    {
     "name": "stdout",
     "output_type": "stream",
     "text": [
      "hello\n",
      "hello\n",
      "hello\n"
     ]
    }
   ],
   "source": [
    "def repeat(times: int=1) -> Callable:\n",
    "    def _repeat(func: Callable):\n",
    "        def _wrapper(*args, **kwargs):\n",
    "            for _ in range(times):\n",
    "                func(*args, **kwargs)\n",
    "        return _wrapper\n",
    "    return _repeat\n",
    "\n",
    "@repeat(times=3)\n",
    "def say_hello():\n",
    "    print(\"hello\")\n",
    "\n",
    "say_hello()"
   ]
  },
  {
   "cell_type": "code",
   "execution_count": 3,
   "id": "f82393d4-6311-4df4-9755-f26d68532fa5",
   "metadata": {},
   "outputs": [
    {
     "name": "stdout",
     "output_type": "stream",
     "text": [
      "twiceの実行\n",
      "開始: 2023-11-05 23:11:51.770213\n",
      "終了: 2023-11-05 23:11:51.770231\n",
      "実行結果: 10\n"
     ]
    },
    {
     "data": {
      "text/plain": [
       "10"
      ]
     },
     "execution_count": 3,
     "metadata": {},
     "output_type": "execute_result"
    }
   ],
   "source": [
    "def my_logger(func: Callable):\n",
    "    def _wrapper(*args, **kwargs):\n",
    "        print(f\"{func.__name__}の実行\")\n",
    "        print(f'開始: {datetime.datetime.now()}')\n",
    "        ans = func(*args, **kwargs)\n",
    "\n",
    "        print(f'終了: {datetime.datetime.now()}')\n",
    "        print(f'実行結果: {ans}')\n",
    "\n",
    "        return ans\n",
    "    return _wrapper\n",
    "\n",
    "@my_logger\n",
    "def twice(src: int = 5):\n",
    "    return src*2\n",
    "\n",
    "twice()"
   ]
  },
  {
   "cell_type": "markdown",
   "id": "9bd23731-7743-4379-a0b7-01ea28247e88",
   "metadata": {},
   "source": [
    "## backoff"
   ]
  },
  {
   "cell_type": "code",
   "execution_count": 4,
   "id": "e5cdab43-c9e8-45ba-9a2a-5949f26d08fc",
   "metadata": {},
   "outputs": [
    {
     "name": "stdin",
     "output_type": "stream",
     "text": [
      "Enter an integer:  o\n",
      "Enter an integer:  j\n",
      "Enter an integer:  o\n"
     ]
    },
    {
     "ename": "ValueError",
     "evalue": "invalid literal for int() with base 10: 'o'",
     "output_type": "error",
     "traceback": [
      "\u001b[0;31m---------------------------------------------------------------------------\u001b[0m",
      "\u001b[0;31mValueError\u001b[0m                                Traceback (most recent call last)",
      "Cell \u001b[0;32mIn[4], line 9\u001b[0m\n\u001b[1;32m      3\u001b[0m \u001b[38;5;129m@backoff\u001b[39m\u001b[38;5;241m.\u001b[39mon_exception(backoff\u001b[38;5;241m.\u001b[39mexpo,\n\u001b[1;32m      4\u001b[0m                       \u001b[38;5;167;01mValueError\u001b[39;00m,\n\u001b[1;32m      5\u001b[0m                       max_tries\u001b[38;5;241m=\u001b[39m\u001b[38;5;241m3\u001b[39m)\n\u001b[1;32m      6\u001b[0m \u001b[38;5;28;01mdef\u001b[39;00m \u001b[38;5;21mtest\u001b[39m():\n\u001b[1;32m      7\u001b[0m     number \u001b[38;5;241m=\u001b[39m \u001b[38;5;28mint\u001b[39m(\u001b[38;5;28minput\u001b[39m(\u001b[38;5;124m\"\u001b[39m\u001b[38;5;124mEnter an integer: \u001b[39m\u001b[38;5;124m\"\u001b[39m))\n\u001b[0;32m----> 9\u001b[0m \u001b[43mtest\u001b[49m\u001b[43m(\u001b[49m\u001b[43m)\u001b[49m\n",
      "File \u001b[0;32m/usr/local/lib/python3.9/site-packages/backoff/_sync.py:105\u001b[0m, in \u001b[0;36mretry_exception.<locals>.retry\u001b[0;34m(*args, **kwargs)\u001b[0m\n\u001b[1;32m     96\u001b[0m details \u001b[38;5;241m=\u001b[39m {\n\u001b[1;32m     97\u001b[0m     \u001b[38;5;124m\"\u001b[39m\u001b[38;5;124mtarget\u001b[39m\u001b[38;5;124m\"\u001b[39m: target,\n\u001b[1;32m     98\u001b[0m     \u001b[38;5;124m\"\u001b[39m\u001b[38;5;124margs\u001b[39m\u001b[38;5;124m\"\u001b[39m: args,\n\u001b[0;32m   (...)\u001b[0m\n\u001b[1;32m    101\u001b[0m     \u001b[38;5;124m\"\u001b[39m\u001b[38;5;124melapsed\u001b[39m\u001b[38;5;124m\"\u001b[39m: elapsed,\n\u001b[1;32m    102\u001b[0m }\n\u001b[1;32m    104\u001b[0m \u001b[38;5;28;01mtry\u001b[39;00m:\n\u001b[0;32m--> 105\u001b[0m     ret \u001b[38;5;241m=\u001b[39m \u001b[43mtarget\u001b[49m\u001b[43m(\u001b[49m\u001b[38;5;241;43m*\u001b[39;49m\u001b[43margs\u001b[49m\u001b[43m,\u001b[49m\u001b[43m \u001b[49m\u001b[38;5;241;43m*\u001b[39;49m\u001b[38;5;241;43m*\u001b[39;49m\u001b[43mkwargs\u001b[49m\u001b[43m)\u001b[49m\n\u001b[1;32m    106\u001b[0m \u001b[38;5;28;01mexcept\u001b[39;00m exception \u001b[38;5;28;01mas\u001b[39;00m e:\n\u001b[1;32m    107\u001b[0m     max_tries_exceeded \u001b[38;5;241m=\u001b[39m (tries \u001b[38;5;241m==\u001b[39m max_tries_value)\n",
      "Cell \u001b[0;32mIn[4], line 7\u001b[0m, in \u001b[0;36mtest\u001b[0;34m()\u001b[0m\n\u001b[1;32m      3\u001b[0m \u001b[38;5;129m@backoff\u001b[39m\u001b[38;5;241m.\u001b[39mon_exception(backoff\u001b[38;5;241m.\u001b[39mexpo,\n\u001b[1;32m      4\u001b[0m                       \u001b[38;5;167;01mValueError\u001b[39;00m,\n\u001b[1;32m      5\u001b[0m                       max_tries\u001b[38;5;241m=\u001b[39m\u001b[38;5;241m3\u001b[39m)\n\u001b[1;32m      6\u001b[0m \u001b[38;5;28;01mdef\u001b[39;00m \u001b[38;5;21mtest\u001b[39m():\n\u001b[0;32m----> 7\u001b[0m     number \u001b[38;5;241m=\u001b[39m \u001b[38;5;28;43mint\u001b[39;49m\u001b[43m(\u001b[49m\u001b[38;5;28;43minput\u001b[39;49m\u001b[43m(\u001b[49m\u001b[38;5;124;43m\"\u001b[39;49m\u001b[38;5;124;43mEnter an integer: \u001b[39;49m\u001b[38;5;124;43m\"\u001b[39;49m\u001b[43m)\u001b[49m\u001b[43m)\u001b[49m\n",
      "\u001b[0;31mValueError\u001b[0m: invalid literal for int() with base 10: 'o'"
     ]
    }
   ],
   "source": [
    "import backoff\n",
    "\n",
    "@backoff.on_exception(backoff.expo,\n",
    "                      ValueError,\n",
    "                      max_tries=3)\n",
    "def test():\n",
    "    number = int(input(\"Enter an integer: \"))\n",
    "\n",
    "test()"
   ]
  },
  {
   "cell_type": "code",
   "execution_count": null,
   "id": "cae2e566-5800-4462-a225-3db01ff2dee8",
   "metadata": {},
   "outputs": [],
   "source": [
    "# db接続とのエラーを検知するときに使用するとよい\n",
    "import backoff\n",
    "import requests\n",
    "from autokitchen.database import OperationException \n",
    "# setting properties of self.*_db objects will\n",
    "# update data in the database\n",
    "\n",
    "@backoff.on_exception(backoff.expo,\n",
    "                      OperationException,\n",
    "                      max_tries=5) \n",
    "def on_dish_ordered(dish: Dish):\n",
    "    self.dish_db[dish].count += 1\n",
    "\n",
    "@backoff.on_exception(backoff.expo,\n",
    "                      OperationException,\n",
    "                      max_tries=5) \n",
    "@backoff.on_exception(backoff.expo,\n",
    "                      requests.exceptions.HTTPError,\n",
    "                      max_time=60)\n",
    "def save_inventory_counts(inventory):\n",
    "    for ingredient in inventory: \n",
    "        self.inventory_db[ingredient.name] = ingredient.count\n",
    "\n"
   ]
  },
  {
   "cell_type": "markdown",
   "id": "1b6d8109-b4fc-4ce4-934d-297bfe69f000",
   "metadata": {},
   "source": [
    "### コンポーザブルなアルゴリズム"
   ]
  },
  {
   "cell_type": "code",
   "execution_count": null,
   "id": "374d707f-e839-4cd2-aedd-87ed345d31cc",
   "metadata": {},
   "outputs": [],
   "source": [
    "import itertools\n",
    "\n",
    "Meal = str\n",
    "\n",
    "@dataclass\n",
    "class RecommendationPolicy:\n",
    "    meals: list[str]\n",
    "    initial_sorting_criteria: Callable\n",
    "    grouping_criteria: Callable\n",
    "    secondary_sorting_criteria: Callable\n",
    "    selection_criteria: Callable\n",
    "    desired_number_of_recommendations: int\n",
    "\n",
    "def recommend_meal(policy: RecommendationPolicy) -> list[Meal]:\n",
    "    meals = policy.meals\n",
    "    sorted_meals = sorted(meals, key=policy.initial_sorting_criteria, reverse=True)\n",
    "    grouped_meals = itertools.groupby(sorted_meals, key=policy.grouping_criteria)\n",
    "    _, top_grouped = next(grouped_meals)\n",
    "    secondary_sorted = sorted(top_grouped, key=policy.secondary_sorting_criteria, reverse=True)\n",
    "    candidates = itertools.takewhile(policy.selection_criteria, secondary_sorted)\n",
    "    return list(candidates)[:policy.desired_number_of_recommendations]\n",
    "\n",
    "\n",
    "# dummy functions to get code to run\n",
    "def get_specials():\n",
    "    return [\"abc\", \"d\", \"efghi\", \"jk\", \"l\", \"mno\", \"p\"]\n",
    "\n",
    "def get_proximity_to_surplus_ingredients(meal):\n",
    "    return len(meal)\n",
    "\n",
    "get_proximity_to_last_meal = get_proximity_to_surplus_ingredients\n",
    "\n",
    "def proximity_greater_than_75_percent(meal):\n",
    "    return len(meal) > .75\n",
    "\n",
    "\n",
    "meal = recommend_meal(RecommendationPolicy(\n",
    "    meals=get_specials(),\n",
    "    initial_sorting_criteria=get_proximity_to_surplus_ingredients,\n",
    "    grouping_criteria=get_proximity_to_surplus_ingredients,\n",
    "    secondary_sorting_criteria=get_proximity_to_last_meal,\n",
    "    selection_criteria=proximity_greater_than_75_percent,\n",
    "    desired_number_of_recommendations=3)\n",
    ")\n",
    "\n",
    "assert meal == [\"efghi\"]"
   ]
  }
 ],
 "metadata": {
  "kernelspec": {
   "display_name": "Python 3 (ipykernel)",
   "language": "python",
   "name": "python3"
  },
  "language_info": {
   "codemirror_mode": {
    "name": "ipython",
    "version": 3
   },
   "file_extension": ".py",
   "mimetype": "text/x-python",
   "name": "python",
   "nbconvert_exporter": "python",
   "pygments_lexer": "ipython3",
   "version": "3.9.18"
  }
 },
 "nbformat": 4,
 "nbformat_minor": 5
}
