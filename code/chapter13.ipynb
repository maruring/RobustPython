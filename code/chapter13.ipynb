{
 "cells": [
  {
   "cell_type": "markdown",
   "id": "f968e1a4-b146-4a09-9dd6-f461ddefd07a",
   "metadata": {},
   "source": [
    "# プロトコル"
   ]
  },
  {
   "cell_type": "markdown",
   "id": "dd3a5a0b-9bd5-4d2c-ab13-63861bb1e6b0",
   "metadata": {},
   "source": [
    "メニューで小盛を作るシステムを考える  \n",
    "なお、ドリンクやハンバーガーは小盛にできない"
   ]
  },
  {
   "cell_type": "code",
   "execution_count": 2,
   "id": "bf81c104-3a40-42e7-bf67-459b5c59054a",
   "metadata": {},
   "outputs": [],
   "source": [
    "from __future__ import annotations"
   ]
  },
  {
   "cell_type": "code",
   "execution_count": null,
   "id": "3813d266-6c51-4ea7-b361-803a4812c66b",
   "metadata": {},
   "outputs": [],
   "source": [
    "class SandWich:\n",
    "    def __init__(self):\n",
    "        self.cost = 6.95\n",
    "        self.name = \"sandwich\"\n",
    "    def split_in_half(self) -> tuple[SandWich, SandWich]\n",
    "    # 半分にするための処理\n",
    "\n",
    "class Chil:\n",
    "    def __init__(self):\n",
    "        self.cost = 10.50\n",
    "        self.name = \"chil\"\n",
    "    def split_in_half(self) -> tuple[Chil, Chil]\n",
    "    # 半分にするための処理\n",
    "\n",
    "class Buger:\n",
    "    def __init__(self):\n",
    "        self.cost = 15.00\n",
    "        self.name = \"Buger\"\n",
    "\n",
    "    # split_in_halfは存在しない\n",
    "\n",
    "def split_dish(dish):\n",
    "    dishes = dish.split_in_half()\n",
    "    assert len(dishes) == 2\n",
    "    for half_dish in dishes:\n",
    "        half_dish.cost = half_dish.cost / 2\n",
    "        half_dish.name = half_dish.name + \"_half\"\n",
    "\n",
    "    return dishes"
   ]
  },
  {
   "cell_type": "markdown",
   "id": "bee931bb-1d22-43e2-8e9c-218395f04d3f",
   "metadata": {},
   "source": [
    "split_dishにSandWichやChilを渡してもエラーにはならないがBugerを渡すとエラーが発生する  \n",
    "これはsplit_dishないで必要な属性を持っていないからである  "
   ]
  },
  {
   "cell_type": "markdown",
   "id": "4b0e5048-c8a2-4324-82f8-ef68d858136e",
   "metadata": {},
   "source": [
    "## プロトコル定義"
   ]
  },
  {
   "cell_type": "code",
   "execution_count": 5,
   "id": "3f3bb860-04f1-45f4-b765-043291116bbb",
   "metadata": {},
   "outputs": [],
   "source": [
    "from __future__ import annotations\n",
    "from typing import Protocol, runtime_checkable"
   ]
  },
  {
   "cell_type": "code",
   "execution_count": 2,
   "id": "a30dfdb2-ef96-47bc-bc53-a2d24aa8f162",
   "metadata": {},
   "outputs": [],
   "source": [
    "class Splittable(Protocol):\n",
    "    cost: int\n",
    "    name: str\n",
    "\n",
    "    def split_in_half(self) -> tuple[Splittable, Splittable]:\n",
    "        pass"
   ]
  },
  {
   "cell_type": "code",
   "execution_count": 3,
   "id": "528f7c67-a962-4529-a98d-ce467966f710",
   "metadata": {},
   "outputs": [],
   "source": [
    "# プロトコルが定義できたのでsplit_dishの引数として定義できる\n",
    "def split_dish(dish: Splittable) -> tuple[Splittable, Splittable]:\n",
    "    dishes = dish.split_in_half()\n",
    "    assert len(dishes) == 2\n",
    "    for half_dish in dishes:\n",
    "        half_dish.cost = half_dish.cost / 2\n",
    "        half_dish.name = half_dish.name + \"_half\"\n",
    "\n",
    "    return dishes"
   ]
  },
  {
   "cell_type": "code",
   "execution_count": 6,
   "id": "957edc83-c7b5-4aae-98ef-1e74eaacc2a6",
   "metadata": {},
   "outputs": [],
   "source": [
    "# このようなすることで実行時型チェックもできる\n",
    "\n",
    "@runtime_checkable\n",
    "class Splittable(Protocol):\n",
    "    cost: int\n",
    "    name: str\n",
    "\n",
    "    def split_in_half(self) -> tuple[Splittable, Splittable]:\n",
    "        pass"
   ]
  },
  {
   "cell_type": "code",
   "execution_count": null,
   "id": "87ad41c9-f73c-4598-a2b9-14c44af6a1e8",
   "metadata": {},
   "outputs": [],
   "source": []
  }
 ],
 "metadata": {
  "kernelspec": {
   "display_name": "Python 3 (ipykernel)",
   "language": "python",
   "name": "python3"
  },
  "language_info": {
   "codemirror_mode": {
    "name": "ipython",
    "version": 3
   },
   "file_extension": ".py",
   "mimetype": "text/x-python",
   "name": "python",
   "nbconvert_exporter": "python",
   "pygments_lexer": "ipython3",
   "version": "3.9.17"
  }
 },
 "nbformat": 4,
 "nbformat_minor": 5
}
