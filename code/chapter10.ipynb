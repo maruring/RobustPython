{
 "cells": [
  {
   "cell_type": "markdown",
   "metadata": {},
   "source": [
    "# クラス"
   ]
  },
  {
   "cell_type": "markdown",
   "metadata": {},
   "source": [
    "class, dict, dataclassは同じような書き方ができる"
   ]
  },
  {
   "cell_type": "code",
   "execution_count": 2,
   "metadata": {},
   "outputs": [],
   "source": [
    "from dataclasses import dataclass"
   ]
  },
  {
   "cell_type": "code",
   "execution_count": 8,
   "metadata": {},
   "outputs": [],
   "source": [
    "class Human:\n",
    "    name: str = \"\"\n",
    "    age: int = 0\n",
    "    address: str = \"\"\n",
    "\n",
    "Human_dict = {\"name\": \"\",\n",
    "             \"age\": 0,\n",
    "             \"address\": \"\"}\n",
    "\n",
    "@dataclass\n",
    "class HumanData:\n",
    "    name: str = \"\"\n",
    "    age: int = 0\n",
    "    address: str = \"\""
   ]
  },
  {
   "cell_type": "code",
   "execution_count": 9,
   "metadata": {},
   "outputs": [],
   "source": [
    "# dataclassではインスタンスできるが\n",
    "B = HumanData(\"hoge\", 10, \"BB\")"
   ]
  },
  {
   "cell_type": "code",
   "execution_count": 10,
   "metadata": {},
   "outputs": [
    {
     "ename": "TypeError",
     "evalue": "Human() takes no arguments",
     "output_type": "error",
     "traceback": [
      "\u001b[0;31m---------------------------------------------------------------------------\u001b[0m",
      "\u001b[0;31mTypeError\u001b[0m                                 Traceback (most recent call last)",
      "Cell \u001b[0;32mIn[10], line 1\u001b[0m\n\u001b[0;32m----> 1\u001b[0m A \u001b[38;5;241m=\u001b[39m \u001b[43mHuman\u001b[49m\u001b[43m(\u001b[49m\u001b[38;5;124;43m\"\u001b[39;49m\u001b[38;5;124;43mhoge\u001b[39;49m\u001b[38;5;124;43m\"\u001b[39;49m\u001b[43m,\u001b[49m\u001b[43m \u001b[49m\u001b[38;5;241;43m10\u001b[39;49m\u001b[43m,\u001b[49m\u001b[43m \u001b[49m\u001b[38;5;124;43m\"\u001b[39;49m\u001b[38;5;124;43mAA\u001b[39;49m\u001b[38;5;124;43m\"\u001b[39;49m\u001b[43m)\u001b[49m\n",
      "\u001b[0;31mTypeError\u001b[0m: Human() takes no arguments"
     ]
    }
   ],
   "source": [
    "# classではインスタンス化できない\n",
    "A = Human(\"hoge\", 10, \"AA\")"
   ]
  },
  {
   "cell_type": "markdown",
   "metadata": {},
   "source": [
    "## classの用途\n",
    "例えば以下のような不変式を維持するためのクラスを考える  \n",
    "- コーヒー豆の大きさは5mm以上10mm未満\n",
    "- コーヒー豆の種類は1つだけである\n",
    "- コーヒー豆の重量は整数である\n",
    "- クリームトッピングは一番最初にくる\n",
    "- クリームトッピング以外のトッピングの順序は問わない"
   ]
  },
  {
   "cell_type": "code",
   "execution_count": null,
   "metadata": {},
   "outputs": [],
   "source": [
    "class CoffeeSpecification:\n",
    "    def __init__(self, coffee_type: list[str], coffee_weight: int, coffee_length: int, toppings: list[str]):\n",
    "        assert(5 <= coffee_length < 10)\n",
    "        assert len(coffee_type) < 2\n",
    "\n",
    "        cream = [t fot t in toppings if is_cream(toppings)]\n",
    "        self.toppings = cream\n",
    "\n",
    "# コーヒー豆の重量が整数であることは型チェッカで確認できる"
   ]
  },
  {
   "cell_type": "markdown",
   "metadata": {},
   "source": [
    "dataclassより詳細な調整ができ不変性が実現できる"
   ]
  },
  {
   "cell_type": "markdown",
   "metadata": {},
   "source": [
    "## 不変式のカプセル化"
   ]
  },
  {
   "cell_type": "code",
   "execution_count": null,
   "metadata": {},
   "outputs": [],
   "source": [
    "coffee_spec = CoffeeSpecification(coffee_type=[\"brazile\"], coffee_weight=10,\n",
    "                                  coffee_length=6, toppings=[\"cream\", \"sugur\"])\n",
    "coffee_spec.coffee_length = 150 # 不変式が保たれていない"
   ]
  },
  {
   "cell_type": "code",
   "execution_count": null,
   "metadata": {},
   "outputs": [],
   "source": [
    "# CoffeeSpecificationをカプセル化した場合の例\n",
    "class CoffeeSpecification:\n",
    "    def __init__(self, coffee_type: list[str], coffee_weight: int, coffee_length: int, toppings: list[str]):\n",
    "        assert(5 <= coffee_length < 10)\n",
    "        assert len(coffee_type) < 2\n",
    "        self.__coffee_length = coffee_length\n",
    "        self.__coffee_type = coffee_type\n",
    "\n",
    "        cream = [t fot t in toppings if is_cream(toppings)]\n",
    "        self.toppings = cream\n"
   ]
  }
 ],
 "metadata": {
  "kernelspec": {
   "display_name": "Python 3 (ipykernel)",
   "language": "python",
   "name": "python3"
  },
  "language_info": {
   "codemirror_mode": {
    "name": "ipython",
    "version": 3
   },
   "file_extension": ".py",
   "mimetype": "text/x-python",
   "name": "python",
   "nbconvert_exporter": "python",
   "pygments_lexer": "ipython3",
   "version": "3.9.17"
  }
 },
 "nbformat": 4,
 "nbformat_minor": 4
}
