{
 "cells": [
  {
   "cell_type": "markdown",
   "metadata": {},
   "source": [
    "# コレクション型"
   ]
  },
  {
   "cell_type": "code",
   "execution_count": null,
   "metadata": {},
   "outputs": [],
   "source": [
    "import collections import defaultdict"
   ]
  },
  {
   "cell_type": "code",
   "execution_count": null,
   "metadata": {},
   "outputs": [],
   "source": [
    "# 引数の配列から同じ著者が何人いるかを返却する関数があるとする\n",
    "\n",
    "def count_author(cookbooks: list) -> dict:\n",
    "    counter = defaultdict(int)\n",
    "    for book in cookbooks:\n",
    "        counter(book.author) += 1"
   ]
  },
  {
   "cell_type": "markdown",
   "metadata": {},
   "source": [
    "アノテーションで辞書型が返却されるのは理解できるが、コレクション(辞書型)の中がないであるかは分からない  \n",
    "また、開発者が意図した型とは別の型がコレクションに格納される可能性もある  \n",
    "\n",
    "以下のようにコレクションに納める型を明記する"
   ]
  },
  {
   "cell_type": "code",
   "execution_count": null,
   "metadata": {},
   "outputs": [],
   "source": [
    "AuthorCountMapping = dict[str, int]\n",
    "def count_author_kai(cookbooks: list) -> AuthorCountMapping:\n",
    "    counter = defaultdict(int)\n",
    "    for book in cookbooks:\n",
    "        counter(book.author) += 1"
   ]
  },
  {
   "cell_type": "markdown",
   "metadata": {},
   "source": [
    "## 同種コレクションと異種コレクション"
   ]
  },
  {
   "cell_type": "code",
   "execution_count": null,
   "metadata": {},
   "outputs": [],
   "source": [
    "# 以下のようなdocstringの関数があると考える\n",
    "def adjust_recipe(recipe, serving):\n",
    "    \"\"\"\n",
    "    料理のレシピを受け取り、材料を調整して提供人数を変更する\n",
    "    :param recipe: 先頭要素が提供人数で、それ以降が(\"flour\", 1.5, \"cup\")の(名前, 量, 単位)を示す\n",
    "    :param serving: 提供する人数\n",
    "    :return list\n",
    "    \"\"\""
   ]
  },
  {
   "cell_type": "markdown",
   "metadata": {},
   "source": [
    "docstringに嘘を書いている可能性もあるし、servingの要素がかなり特殊である  \n",
    "[1, (\"four\", 1.5, \"cup\")]のような感じ  \n",
    "以下のようにしてアノテーションをしてあげる"
   ]
  },
  {
   "cell_type": "code",
   "execution_count": null,
   "metadata": {},
   "outputs": [],
   "source": [
    "Ingredient = tuple[str, float, str] #(名前, 量, 単位)の部分\n",
    "Recipe = list[Union[int, Ingredient]] #リスト内に整数とタプルを共存させるためにUnion型を使用する\n",
    "# アノテーションができるように自作の型を作ってあげる\n",
    "\n",
    "def adjust_recipe(recipe: Recipe, serving):\n",
    "    print(\"hoge\")\n",
    "\n",
    "# Recipe型でアノテーションが可能となる"
   ]
  }
 ],
 "metadata": {
  "language_info": {
   "name": "python"
  },
  "orig_nbformat": 4
 },
 "nbformat": 4,
 "nbformat_minor": 2
}
