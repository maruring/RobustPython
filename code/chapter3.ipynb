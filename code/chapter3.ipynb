{
 "cells": [
  {
   "cell_type": "markdown",
   "metadata": {},
   "source": [
    "## 型アノテーション"
   ]
  },
  {
   "cell_type": "code",
   "execution_count": null,
   "metadata": {},
   "outputs": [],
   "source": [
    "import datetime.datetime\n",
    "import mypy"
   ]
  },
  {
   "cell_type": "code",
   "execution_count": null,
   "metadata": {},
   "outputs": [],
   "source": [
    "# 悪い例\n",
    "def find_workers(open_time: datetime.datetime):\n",
    "    return [1,2,3]"
   ]
  },
  {
   "cell_type": "markdown",
   "metadata": {},
   "source": [
    "引数の型は分かるが、返り値の型は分からない  \n",
    "上の例では単純にリストで返却しているが、仮にDBと接続している場合はDBを見に行って型を確認する必要がある  "
   ]
  },
  {
   "cell_type": "code",
   "execution_count": null,
   "metadata": {},
   "outputs": [],
   "source": [
    "# 良い例\n",
    "def find_workers(open_time: datetime.datetime) -> list[int]:\n",
    "    return [1,2,3]\n",
    "\n",
    "# int型の配列を返却する関数であることが分かる"
   ]
  },
  {
   "cell_type": "code",
   "execution_count": null,
   "metadata": {},
   "outputs": [],
   "source": [
    "#静的解析ツールの使用することでエラーが表示される\n",
    "\n",
    "a: int = 5\n",
    "a = \"string\""
   ]
  },
  {
   "cell_type": "code",
   "execution_count": null,
   "metadata": {},
   "outputs": [],
   "source": [
    "# 静的解析ツールを使うことで以下の関数の間違いに気付くことができる"
   ]
  },
  {
   "cell_type": "code",
   "execution_count": null,
   "metadata": {},
   "outputs": [],
   "source": [
    "def read_file(file_name: str) -> str:\n",
    "    with open(file_name) as f:\n",
    "        #byteをstrに変換\n",
    "        return f.read().encode(\"utf-8\")[::-1]\n"
   ]
  },
  {
   "cell_type": "markdown",
   "metadata": {},
   "source": [
    "コメントではstrに変換していることを書いているが、実際はstrに変換できておらず、byte型で返却している"
   ]
  }
 ],
 "metadata": {
  "language_info": {
   "name": "python"
  },
  "orig_nbformat": 4
 },
 "nbformat": 4,
 "nbformat_minor": 2
}
