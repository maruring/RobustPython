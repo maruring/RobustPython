{
 "cells": [
  {
   "cell_type": "markdown",
   "id": "2ae1419a-80a0-4635-9097-44b83414f218",
   "metadata": {},
   "source": [
    "# 15章 拡張性"
   ]
  },
  {
   "cell_type": "markdown",
   "id": "5f5a7072-d58a-423d-ace3-f77876039bbf",
   "metadata": {},
   "source": [
    "レストランで各チェーン店に通知を行う機能を実装したとする"
   ]
  },
  {
   "cell_type": "code",
   "execution_count": null,
   "id": "9e74911b-b2e6-44b3-b9ba-8919b2d7ba07",
   "metadata": {},
   "outputs": [],
   "source": [
    "import datetime\n",
    "\n",
    "def declear_special(dish: str, start_datetime: datetime.datetime, end_datetime: datetime.datetime):\n",
    "    # 特別メニューが追加されたことを各チェーン店に通知\n",
    "    pass\n",
    "\n",
    "def delete_menu(dish: str):\n",
    "    # 材料の在庫がないため、メニューから削除することを通知\n",
    "    pass\n",
    "\n",
    "def check_for_expired_ingredients():\n",
    "    # 24時間ごとに呼び出されて材料の賞味期限が切れることを通知\n",
    "    pass"
   ]
  },
  {
   "cell_type": "markdown",
   "id": "8b568b28-c7cf-4cf0-937a-6f0a99d06b79",
   "metadata": {},
   "source": [
    "たとえば、declear_specialをメールで通知したい機能を追加する場合以下のようになる"
   ]
  },
  {
   "cell_type": "code",
   "execution_count": null,
   "id": "65d88c7c-4f86-469f-a1cd-747c0a92be74",
   "metadata": {},
   "outputs": [],
   "source": [
    "def declear_special(dish: str, \n",
    "                    start_datetime: datetime.datetime,\n",
    "                    end_datetime: datetime.datetime,\n",
    "                    email: str):\n",
    "    # 新しいメニューが通知されたことを各チェーン店に通知\n",
    "    pass"
   ]
  },
  {
   "cell_type": "markdown",
   "id": "f7fac854-818d-474f-be8f-fb3c99d2666a",
   "metadata": {},
   "source": [
    "さらに以下のような機能追加を要求されたことを考える\n",
    "- 営業チームにも在庫切れと賞味期限切れを通知する\n",
    "- レストランの顧客に特別メニューを通知する\n",
    "- チェーン店ごとに異なるAPIをサポートする\n",
    "- 新メニューをマーケターと店長のみに通知する"
   ]
  },
  {
   "cell_type": "markdown",
   "id": "21b8c710-7a65-49b7-a625-a79d160ef0ab",
   "metadata": {},
   "source": [
    "上記の機能を追加するとdeclear_special, delete_menu, check_for_expired_ingredientsの関数が肥大化してしまい  \n",
    "また通知するという機能が各関数ごとに独自で持っているため、コード修正の際にミスが発生する可能性が高くなる  "
   ]
  },
  {
   "cell_type": "code",
   "execution_count": null,
   "id": "064bb972-27fa-41d0-b139-570f11397691",
   "metadata": {},
   "outputs": [],
   "source": [
    "# declaer_specialに目を当てつと以下のような関数に肥大化していまう\n",
    "def declear_special(dish: str, \n",
    "                    start_datetime: datetime.datetime,\n",
    "                    end_datetime: datetime.datetime,\n",
    "                    email: str,\n",
    "                    send_customer: bool,\n",
    "                    phone_number: str):\n",
    "    # 新しいメニューが通知されたことを各チェーン店に通知\n",
    "    pass"
   ]
  },
  {
   "cell_type": "markdown",
   "id": "78714c74-9b0f-4b34-8a47-54f1cf800032",
   "metadata": {},
   "source": [
    "通知に関する内容は大きく3つに分類できると考えた場合  \n",
    "- 通知の内容 -> メニューの追加、メニューの削除など\n",
    "- 通知の手段 -> Email, ショートメッセージなど\n",
    "- 通知の宛先 -> 店長のメールアドレス, マーケターの電話番号"
   ]
  },
  {
   "cell_type": "code",
   "execution_count": 1,
   "id": "ff57a9b8-ae01-43b4-9c1d-723a92599dbd",
   "metadata": {},
   "outputs": [],
   "source": [
    "# それぞれの機能を分解してクラスを設計し直す\n",
    "from dataclasses import dataclass\n",
    "from typing import Any, List, Dict, Set, Union\n",
    "\n",
    "notifications: list[Any] = []\n",
    "\n",
    "Dish = str\n",
    "Ingredient = str"
   ]
  },
  {
   "cell_type": "markdown",
   "id": "f9d15199-74f0-4a04-80ab-e08f1bb7f9b9",
   "metadata": {},
   "source": [
    "## 通知内容のclass"
   ]
  },
  {
   "cell_type": "code",
   "execution_count": null,
   "id": "c27aa29d-3e4b-4550-bec1-c417bc4e6b21",
   "metadata": {},
   "outputs": [],
   "source": [
    "@dataclass\n",
    "class NewSpecial:\n",
    "    dish: Dish\n",
    "    start_date: datetime.datetime\n",
    "    end_date: datetime.datetime\n",
    "\n",
    "@dataclass\n",
    "class IngredientsOutOfStock:\n",
    "    ingredients: set[Ingredient]\n",
    "\n",
    "@dataclass\n",
    "class IngredientsExpired:\n",
    "    ingredients: set[Ingredient]\n",
    "\n",
    "@dataclass\n",
    "class NewMenuItem:\n",
    "    dish: Dish\n",
    "\n",
    "Notification = Union[NewSpecial, IngredientsOutOfStock, IngredientsExpired, NewMenuItem]"
   ]
  },
  {
   "cell_type": "markdown",
   "id": "d579d73c-92a7-46bd-b64d-1e46c325b4ee",
   "metadata": {},
   "source": [
    "## 通知手段のclass"
   ]
  },
  {
   "cell_type": "code",
   "execution_count": null,
   "id": "dae5f8ce-3e01-43bd-99de-c73372c095c9",
   "metadata": {},
   "outputs": [],
   "source": [
    "@dataclass\n",
    "class Text:\n",
    "    phone_number: str\n",
    "\n",
    "@dataclass\n",
    "class Email:\n",
    "    email_address: str\n",
    "\n",
    "@dataclass\n",
    "class SupplierAPI:\n",
    "    pass\n",
    "\n",
    "NotificationMethod = Union[Text, Email, SupplierAPI]"
   ]
  },
  {
   "cell_type": "code",
   "execution_count": null,
   "id": "1ea72806-c787-46c9-912a-ec5501b88ea0",
   "metadata": {},
   "outputs": [],
   "source": [
    "# 通知方法ごとに関数が異なるのは必然的な複雑性であるため、しかたない\n",
    "# メッセージ、必要な内容、フォーマットが異なるためである\n",
    "\n",
    "def notify(notification_method: NotificationMethod, notification: Notification):\n",
    "    \"\"\"ショートメッセージとかによる通知\n",
    "    \"\"\"\r\n",
    "    if isinstance(notification_method, Text):\r\n",
    "        send_text(notification_method, notification)\r\n",
    "    elif isinstance(notification_method, Email):\r\n",
    "        send_email(notification_method, notification)\r\n",
    "    elif isinstance(notification_method, SupplierAPI):\r\n",
    "        send_to_supplier(notification)\r\n",
    "    else:\r\n",
    "        raise ValueError(\"Unsupported Notification Method\")\r\n",
    "\r\n",
    "def send_text(text: Text, notification: Notification):\r\n",
    "    if isinstance(notification, NewSpecial):\r\n",
    "        # ... snip send text ...\r\n",
    "        pass\r\n",
    "    elif isinstance(notification, IngredientsOutOfStock):\r\n",
    "        # ... snip send text ...\r\n",
    "        pass\r\n",
    "    elif isinstance(notification, IngredientsExpired):\r\n",
    "        # ... snip send text ...\r\n",
    "        pass\r\n",
    "    elif isinstance(notification, NewMenuItem):\r\n",
    "        # .. snip send text ...\r\n",
    "        pass\r\n",
    "    raise NotImplementedError(\"Notification method not supported\")\r\n",
    "\r\n",
    "def send_email(email: Email, notification: Notification):\r\n",
    "    # .. similar to send_text ...\r\n",
    "    global notifications\r\n",
    "    if isinstance(notification, IngredientsExpired):\r\n",
    "        # ... snip send text ...\r\n",
    "        notifications.append((email.email_address, notification.ingredients))\r\n",
    "    if isinstance(notification, NewMenuItem):\r\n",
    "        # ... snip send text ...\r\n",
    "        notifications.append((email.e\n",
    "\n",
    "def send_to_supplier(notification: Notification):\n",
    "    # .. similar to send_text\n",
    "    global notifications\n",
    "    if isinstance(notification, IngredientsExpired):\n",
    "        # ... snip send text ...\n",
    "        notifications.append((\"supplier\", notification.ingredients))mail_address, notification.dish))"
   ]
  },
  {
   "cell_type": "markdown",
   "id": "288bfedd-aaa5-4634-a7c2-3ba0e3b0cfa9",
   "metadata": {},
   "source": [
    "## 通知の宛先\n",
    "通知内容ごとに通知のリストを得られるようにしておけばよい"
   ]
  },
  {
   "cell_type": "code",
   "execution_count": null,
   "id": "3118e25a-9b14-4e7a-9c1d-4a7d6bdff611",
   "metadata": {},
   "outputs": [],
   "source": [
    "users_to_notify: dict[type, list[NotificationMethod]] = {\n",
    "    NewSpecial: [SupplierAPI(), Email(\"boss@company.org\"), Email(\"marketing@company.org\"), Text(\"555-2345\")],\n",
    "    IngredientsOutOfStock: [SupplierAPI(), Email(\"boss@company.org\")],\n",
    "    IngredientsExpired: [SupplierAPI(), Email(\"boss@company.org\")],\n",
    "    NewMenuItem: [Email(\"boss@company.org\"), Email(\"marketing@company.org\")]\n",
    "}"
   ]
  },
  {
   "cell_type": "markdown",
   "id": "3ebbd6bb-d44f-46b0-9c85-11185df6d23b",
   "metadata": {},
   "source": [
    "以上の内容をまとめて通知用の関数を定義することが出来れば終了である"
   ]
  },
  {
   "cell_type": "code",
   "execution_count": null,
   "id": "26d4a870-bab4-4fc2-8397-0360d481e51c",
   "metadata": {},
   "outputs": [],
   "source": [
    "def send_notification(notification: Notification):\n",
    "    try:\n",
    "        users = users_to_notify[type(notification)]\n",
    "    except KeyError:\n",
    "        raise ValueError(\"Unsupported Notification Method\")\n",
    "    for user in users:\n",
    "        notify(user, notification)"
   ]
  },
  {
   "cell_type": "markdown",
   "id": "691be71f-6a3b-4b60-962f-23048bf5629c",
   "metadata": {},
   "source": [
    "こうすることで他のコードは、通知システムとやり取りするときにsend_notification関数の存在だけを知っておけばよい(関数を1つにまとめることができた)  \n",
    "また、通知方法や通知内容が追加された場合は個別のclassに追加するだけでよいため拡張性もある  \n",
    "既存コードへの変更を最小限にながらもコードベースに新しい機能を追加できることを**解放閉鎖の原則**と呼ぶ"
   ]
  },
  {
   "cell_type": "code",
   "execution_count": null,
   "id": "f8514898-64d7-44e4-8c7d-566ca0aef0d9",
   "metadata": {},
   "outputs": [],
   "source": []
  }
 ],
 "metadata": {
  "kernelspec": {
   "display_name": "Python 3 (ipykernel)",
   "language": "python",
   "name": "python3"
  },
  "language_info": {
   "codemirror_mode": {
    "name": "ipython",
    "version": 3
   },
   "file_extension": ".py",
   "mimetype": "text/x-python",
   "name": "python",
   "nbconvert_exporter": "python",
   "pygments_lexer": "ipython3",
   "version": "3.9.18"
  }
 },
 "nbformat": 4,
 "nbformat_minor": 5
}
