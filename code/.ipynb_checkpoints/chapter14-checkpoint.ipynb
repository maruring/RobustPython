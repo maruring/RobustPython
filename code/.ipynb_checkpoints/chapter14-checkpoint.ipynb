{
 "cells": [
  {
   "cell_type": "markdown",
   "id": "51169c5a-c5eb-43e5-85a1-a873f0818e3f",
   "metadata": {},
   "source": [
    "# pydantic"
   ]
  },
  {
   "cell_type": "markdown",
   "id": "36f5ef80-56f3-4b7c-b300-dc2f4f328bf8",
   "metadata": {},
   "source": [
    "以下のようなyamlファイルがあったとする  \n",
    "また、各属性は何かしらの制限がある(nameは文字列で空白不可、レストランの席数は負ではないなど)  \n",
    "```\n",
    "name: Viafore's\r\n",
    "owner: Pat Viafore\r\n",
    "address: 123 Fake St. Fakington, FA 01234\r\n",
    "employees:\r\n",
    "  - name: Pat Viafore\r\n",
    "    position: Chef\r\n",
    "    payment_details:\r\n",
    "      bank_details:\r\n",
    "        routing_number: \"123456789\"\r\n",
    "        account_number: \"123456789012\"\r\n",
    "  - name: Made-up McGee\r\n",
    "    position: Server\r\n",
    "    payment_details:\r\n",
    "      bank_details:\r\n",
    "        routing_number: \"123456789\"\r\n",
    "        account_number: \"123456789012\"\r\n",
    "  - name: Fabricated Frank\r\n",
    "    position: Sous Chef\r\n",
    "    payment_details:\r\n",
    "      bank_details:\r\n",
    "        routing_number: \"123456789\"\r\n",
    "        account_number: \"123456789012\"\r\n",
    "  - name: Illusory Ilsa\r\n",
    "    position: Host\r\n",
    "    payment_details:\r\n",
    "      bank_details:\r\n",
    "        routing_number: \"123456789\"\r\n",
    "        account_number: \"123456789012\"\r\n",
    "dishes:\r\n",
    "  - name: Pasta And Sausage\r\n",
    "    price_in_cents: 1295\r\n",
    "    description: Rigatoni and Sausage with a Tomato-Garlic-Basil Sauce\r\n",
    "  - name: Pasta Bolognese\r\n",
    "    price_in_cents: 1495\r\n",
    "    description: Spaghetti with a rich Tomato and Beef Sauce\r\n",
    "  - name: Caprese Salad\r\n",
    "    price_in_cents: 795\r\n",
    "    description: Tomato, Buffalo Mozzarella, and Basil\r\n",
    "    picture: caprese.png\r\n",
    "number_o_seats: 12\r\n",
    "to_go: true\r\n",
    "delivery: false\n",
    "\n",
    "```"
   ]
  },
  {
   "cell_type": "markdown",
   "id": "e9c9a039-fcc7-4942-b3a3-38ceaf87ffe7",
   "metadata": {},
   "source": [
    "## TypeDicts\n",
    "欠損フィールドやデータ型が間違っていないかをチェックできる"
   ]
  },
  {
   "cell_type": "code",
   "execution_count": 1,
   "id": "a73a97c2-1265-4143-bfb6-7b145c984b89",
   "metadata": {},
   "outputs": [],
   "source": [
    "from typing import Literal,TypedDict,Union\n",
    "class AccountAndRoutingNumber(TypedDict):\n",
    "    account_number: str\n",
    "    routing_number: str\n",
    "\n",
    "class BankDetails(TypedDict):\n",
    "    bank_details: AccountAndRoutingNumber\n",
    "\n",
    "class Address(TypedDict):\n",
    "    address: str\n",
    "\n",
    "AddressOrBankDetails = Union[Address, BankDetails]\n",
    "\n",
    "Position = Literal['Chef', 'Sous Chef', 'Host',\n",
    "                   'Server', 'Delivery Driver']\n",
    "\n",
    "class Dish(TypedDict):\n",
    "    name: str\n",
    "    price_in_cents: int\n",
    "    description: str\n",
    "\n",
    "class DishWithOptionalPicture(Dish, TypedDict, total=False):\n",
    "    picture: str\n",
    "\n",
    "class Employee(TypedDict):\n",
    "    name: str\n",
    "    position: Position\n",
    "    payment_details: AddressOrBankDetails\n",
    "\n",
    "class Restaurant(TypedDict):\n",
    "    name: str\n",
    "    owner: str\n",
    "    address: str\n",
    "    employees: list[Employee]\n",
    "    dishes: list[Dish]\n",
    "    number_of_seats: int\n",
    "    to_go: bool\n",
    "    delivery: bool\n"
   ]
  },
  {
   "cell_type": "code",
   "execution_count": 2,
   "id": "308429fc-f323-47b9-b4cb-fcfb156e116c",
   "metadata": {},
   "outputs": [],
   "source": [
    "# yamlファイルを読み込む関数\n",
    "import yaml\n",
    "def load_restaurant(filename: str) -> Restaurant:\n",
    "    with open(filename) as yaml_file:\n",
    "        return yaml.safe_load(yaml_file)"
   ]
  },
  {
   "cell_type": "code",
   "execution_count": 3,
   "id": "cf10b90d-1477-4025-b66d-335dea2f3cce",
   "metadata": {},
   "outputs": [
    {
     "data": {
      "text/plain": [
       "{'name': \"Viafore's\",\n",
       " 'owner': 'Pat Viafore',\n",
       " 'address': '123 Fake St. Fakington, FA 01234',\n",
       " 'employees': [{'name': 'Pat Viafore',\n",
       "   'position': 'Chef',\n",
       "   'payment_details': {'bank_details': {'routing_number': '123456789',\n",
       "     'account_number': '123456789012'}}},\n",
       "  {'name': 'Made-up McGee',\n",
       "   'position': 'Server',\n",
       "   'payment_details': {'bank_details': {'routing_number': '123456789',\n",
       "     'account_number': '123456789012'}}},\n",
       "  {'name': 'Fabricated Frank',\n",
       "   'position': 'Sous Chef',\n",
       "   'payment_details': {'bank_details': {'routing_number': '123456789',\n",
       "     'account_number': '123456789012'}}},\n",
       "  {'name': 'Illusory Ilsa',\n",
       "   'position': 'Host',\n",
       "   'payment_details': {'bank_details': {'routing_number': '123456789',\n",
       "     'account_number': '123456789012'}}}],\n",
       " 'dishes': [{'name': 'Pasta And Sausage',\n",
       "   'price_in_cents': 1295,\n",
       "   'description': 'Rigatoni and Sausage with a Tomato-Garlic-Basil Sauce'},\n",
       "  {'name': 'Pasta Bolognese',\n",
       "   'price_in_cents': 1495,\n",
       "   'description': 'Spaghetti with a rich Tomato and Beef Sauce'},\n",
       "  {'name': 'Caprese Salad',\n",
       "   'price_in_cents': 795,\n",
       "   'description': 'Tomato, Buffalo Mozzarella, and Basil',\n",
       "   'picture': 'caprese.png'}],\n",
       " 'number_of_seats': 12,\n",
       " 'to_go': True,\n",
       " 'delivery': False}"
      ]
     },
     "execution_count": 3,
     "metadata": {},
     "output_type": "execute_result"
    }
   ],
   "source": [
    "load_restaurant(filename=\"../document/restaurant.yaml\")"
   ]
  },
  {
   "cell_type": "markdown",
   "id": "db6de118-814c-4166-b998-5c8c9e12d288",
   "metadata": {},
   "source": [
    "## pydantic"
   ]
  },
  {
   "cell_type": "code",
   "execution_count": 4,
   "id": "30f6422f-0500-4fb6-a09b-a8492cfb1893",
   "metadata": {},
   "outputs": [],
   "source": [
    "from pydantic import ValidationError\n",
    "from pydantic.dataclasses import dataclass\n",
    "from typing import Literal, List, Optional, TypedDict, Union\n",
    "\n",
    "@dataclass\n",
    "class AccountAndRoutingNumber():\n",
    "    account_number: str\n",
    "    routing_number: str\n",
    "\n",
    "@dataclass\n",
    "class BankDetails:\n",
    "    bank_details: AccountAndRoutingNumber\n",
    "\n",
    "@dataclass\n",
    "class Address:\n",
    "    address: str\n",
    "\n",
    "AddressOrBankDetails = Union[Address, BankDetails]\n",
    "\n",
    "Position = Literal['Chef', 'Sous Chef', 'Host',\n",
    "                   'Server', 'Delivery Driver']\n",
    "\n",
    "@dataclass\n",
    "class Dish:\n",
    "    name: str\n",
    "    price_in_cents: int\n",
    "    description: str\n",
    "    picture: Optional[str] = None\n",
    "\n",
    "@dataclass\n",
    "class Employee:\n",
    "    name: str\n",
    "    position: Position\n",
    "    payment_details: AddressOrBankDetails\n",
    "\n",
    "@dataclass\n",
    "class Restaurant:\n",
    "    name: str\n",
    "    owner: str\n",
    "    address: str\n",
    "    employees: list[Employee]\n",
    "    dishes: list[Dish]\n",
    "    number_of_seats: int\n",
    "    to_go: bool\n",
    "    delivery: bool"
   ]
  },
  {
   "cell_type": "code",
   "execution_count": 5,
   "id": "8449c42c-9a2c-48a3-adb9-56780cc66bea",
   "metadata": {},
   "outputs": [
    {
     "data": {
      "text/plain": [
       "Restaurant(name=\"Viafore's\", owner='Pat Viafore', address='123 Fake St. Fakington, FA 01234', employees=[Employee(name='Pat Viafore', position='Chef', payment_details=BankDetails(bank_details=AccountAndRoutingNumber(account_number='123456789012', routing_number='123456789'))), Employee(name='Made-up McGee', position='Server', payment_details=BankDetails(bank_details=AccountAndRoutingNumber(account_number='123456789012', routing_number='123456789'))), Employee(name='Fabricated Frank', position='Sous Chef', payment_details=BankDetails(bank_details=AccountAndRoutingNumber(account_number='123456789012', routing_number='123456789'))), Employee(name='Illusory Ilsa', position='Host', payment_details=BankDetails(bank_details=AccountAndRoutingNumber(account_number='123456789012', routing_number='123456789')))], dishes=[Dish(name='Pasta And Sausage', price_in_cents=1295, description='Rigatoni and Sausage with a Tomato-Garlic-Basil Sauce', picture=None), Dish(name='Pasta Bolognese', price_in_cents=1495, description='Spaghetti with a rich Tomato and Beef Sauce', picture=None), Dish(name='Caprese Salad', price_in_cents=795, description='Tomato, Buffalo Mozzarella, and Basil', picture='caprese.png')], number_of_seats=12, to_go=True, delivery=False)"
      ]
     },
     "execution_count": 5,
     "metadata": {},
     "output_type": "execute_result"
    }
   ],
   "source": [
    "# 読み取りの関数は以下の内容に変更される\n",
    "def load_restaurant(filename: str) -> Restaurant:\n",
    "    with open(filename) as yaml_file:\n",
    "        data = yaml.safe_load(yaml_file)\n",
    "        return Restaurant(**data)\n",
    "\n",
    "load_restaurant(filename=\"../document/restaurant.yaml\")"
   ]
  },
  {
   "cell_type": "code",
   "execution_count": 8,
   "id": "d304ab59-9ba2-46e0-a0ce-f5c5fef66193",
   "metadata": {},
   "outputs": [
    {
     "ename": "ValidationError",
     "evalue": "1 validation error for Restaurant\nemployees.0.position\n  Input should be 'Chef', 'Sous Chef', 'Host', 'Server' or 'Delivery Driver' [type=literal_error, input_value='SE', input_type=str]\n    For further information visit https://errors.pydantic.dev/2.4/v/literal_error",
     "output_type": "error",
     "traceback": [
      "\u001b[0;31m---------------------------------------------------------------------------\u001b[0m",
      "\u001b[0;31mValidationError\u001b[0m                           Traceback (most recent call last)",
      "Cell \u001b[0;32mIn[8], line 3\u001b[0m\n\u001b[1;32m      1\u001b[0m \u001b[38;5;66;03m# 誤ったデータを渡すとエラーが発生する\u001b[39;00m\n\u001b[0;32m----> 3\u001b[0m \u001b[43mload_restaurant\u001b[49m\u001b[43m(\u001b[49m\u001b[43mfilename\u001b[49m\u001b[38;5;241;43m=\u001b[39;49m\u001b[38;5;124;43m\"\u001b[39;49m\u001b[38;5;124;43m../document/restaurant_miss.yaml\u001b[39;49m\u001b[38;5;124;43m\"\u001b[39;49m\u001b[43m)\u001b[49m\n",
      "Cell \u001b[0;32mIn[5], line 5\u001b[0m, in \u001b[0;36mload_restaurant\u001b[0;34m(filename)\u001b[0m\n\u001b[1;32m      3\u001b[0m \u001b[38;5;28;01mwith\u001b[39;00m \u001b[38;5;28mopen\u001b[39m(filename) \u001b[38;5;28;01mas\u001b[39;00m yaml_file:\n\u001b[1;32m      4\u001b[0m     data \u001b[38;5;241m=\u001b[39m yaml\u001b[38;5;241m.\u001b[39msafe_load(yaml_file)\n\u001b[0;32m----> 5\u001b[0m     \u001b[38;5;28;01mreturn\u001b[39;00m \u001b[43mRestaurant\u001b[49m\u001b[43m(\u001b[49m\u001b[38;5;241;43m*\u001b[39;49m\u001b[38;5;241;43m*\u001b[39;49m\u001b[43mdata\u001b[49m\u001b[43m)\u001b[49m\n",
      "File \u001b[0;32m/usr/local/lib/python3.9/site-packages/pydantic/_internal/_dataclasses.py:132\u001b[0m, in \u001b[0;36mcomplete_dataclass.<locals>.__init__\u001b[0;34m(__dataclass_self__, *args, **kwargs)\u001b[0m\n\u001b[1;32m    130\u001b[0m __tracebackhide__ \u001b[38;5;241m=\u001b[39m \u001b[38;5;28;01mTrue\u001b[39;00m\n\u001b[1;32m    131\u001b[0m s \u001b[38;5;241m=\u001b[39m __dataclass_self__\n\u001b[0;32m--> 132\u001b[0m \u001b[43ms\u001b[49m\u001b[38;5;241;43m.\u001b[39;49m\u001b[43m__pydantic_validator__\u001b[49m\u001b[38;5;241;43m.\u001b[39;49m\u001b[43mvalidate_python\u001b[49m\u001b[43m(\u001b[49m\u001b[43mArgsKwargs\u001b[49m\u001b[43m(\u001b[49m\u001b[43margs\u001b[49m\u001b[43m,\u001b[49m\u001b[43m \u001b[49m\u001b[43mkwargs\u001b[49m\u001b[43m)\u001b[49m\u001b[43m,\u001b[49m\u001b[43m \u001b[49m\u001b[43mself_instance\u001b[49m\u001b[38;5;241;43m=\u001b[39;49m\u001b[43ms\u001b[49m\u001b[43m)\u001b[49m\n",
      "\u001b[0;31mValidationError\u001b[0m: 1 validation error for Restaurant\nemployees.0.position\n  Input should be 'Chef', 'Sous Chef', 'Host', 'Server' or 'Delivery Driver' [type=literal_error, input_value='SE', input_type=str]\n    For further information visit https://errors.pydantic.dev/2.4/v/literal_error"
     ]
    }
   ],
   "source": [
    "# 誤ったデータを渡すとエラーが発生する -> 型が異なる, 必要なデータが存在しない\n",
    "\n",
    "load_restaurant(filename=\"../document/restaurant_miss.yaml\")"
   ]
  },
  {
   "cell_type": "code",
   "execution_count": null,
   "id": "8edc8ab5-1e1c-4cf0-bad7-996357283b1a",
   "metadata": {},
   "outputs": [],
   "source": []
  }
 ],
 "metadata": {
  "kernelspec": {
   "display_name": "Python 3 (ipykernel)",
   "language": "python",
   "name": "python3"
  },
  "language_info": {
   "codemirror_mode": {
    "name": "ipython",
    "version": 3
   },
   "file_extension": ".py",
   "mimetype": "text/x-python",
   "name": "python",
   "nbconvert_exporter": "python",
   "pygments_lexer": "ipython3",
   "version": "3.9.18"
  }
 },
 "nbformat": 4,
 "nbformat_minor": 5
}
