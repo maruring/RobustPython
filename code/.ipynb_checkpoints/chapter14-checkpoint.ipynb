{
 "cells": [
  {
   "cell_type": "markdown",
   "id": "51169c5a-c5eb-43e5-85a1-a873f0818e3f",
   "metadata": {},
   "source": [
    "# pydantic"
   ]
  },
  {
   "cell_type": "markdown",
   "id": "36f5ef80-56f3-4b7c-b300-dc2f4f328bf8",
   "metadata": {},
   "source": [
    "以下のようなyamlファイルがあったとする  \n",
    "また、各属性は何かしらの制限がある(nameは文字列で空白不可、レストランの席数は負ではないなど)  \n",
    "```\n",
    "name: Viafore's\r\n",
    "owner: Pat Viafore\r\n",
    "address: 123 Fake St. Fakington, FA 01234\r\n",
    "employees:\r\n",
    "  - name: Pat Viafore\r\n",
    "    position: Chef\r\n",
    "    payment_details:\r\n",
    "      bank_details:\r\n",
    "        routing_number: \"123456789\"\r\n",
    "        account_number: \"123456789012\"\r\n",
    "  - name: Made-up McGee\r\n",
    "    position: Server\r\n",
    "    payment_details:\r\n",
    "      bank_details:\r\n",
    "        routing_number: \"123456789\"\r\n",
    "        account_number: \"123456789012\"\r\n",
    "  - name: Fabricated Frank\r\n",
    "    position: Sous Chef\r\n",
    "    payment_details:\r\n",
    "      bank_details:\r\n",
    "        routing_number: \"123456789\"\r\n",
    "        account_number: \"123456789012\"\r\n",
    "  - name: Illusory Ilsa\r\n",
    "    position: Host\r\n",
    "    payment_details:\r\n",
    "      bank_details:\r\n",
    "        routing_number: \"123456789\"\r\n",
    "        account_number: \"123456789012\"\r\n",
    "dishes:\r\n",
    "  - name: Pasta And Sausage\r\n",
    "    price_in_cents: 1295\r\n",
    "    description: Rigatoni and Sausage with a Tomato-Garlic-Basil Sauce\r\n",
    "  - name: Pasta Bolognese\r\n",
    "    price_in_cents: 1495\r\n",
    "    description: Spaghetti with a rich Tomato and Beef Sauce\r\n",
    "  - name: Caprese Salad\r\n",
    "    price_in_cents: 795\r\n",
    "    description: Tomato, Buffalo Mozzarella, and Basil\r\n",
    "    picture: caprese.png\r\n",
    "number_o_seats: 12\r\n",
    "to_go: true\r\n",
    "delivery: false\n",
    "\n",
    "```"
   ]
  },
  {
   "cell_type": "code",
   "execution_count": null,
   "id": "7e20445c-df7f-4f68-ba5b-39e9528dcf0c",
   "metadata": {},
   "outputs": [],
   "source": []
  }
 ],
 "metadata": {
  "kernelspec": {
   "display_name": "Python 3 (ipykernel)",
   "language": "python",
   "name": "python3"
  },
  "language_info": {
   "codemirror_mode": {
    "name": "ipython",
    "version": 3
   },
   "file_extension": ".py",
   "mimetype": "text/x-python",
   "name": "python",
   "nbconvert_exporter": "python",
   "pygments_lexer": "ipython3",
   "version": "3.9.17"
  }
 },
 "nbformat": 4,
 "nbformat_minor": 5
}
