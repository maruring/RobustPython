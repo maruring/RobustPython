{
 "cells": [
  {
   "cell_type": "markdown",
   "id": "12721938-6778-4977-b9f1-1a9f7b2e3662",
   "metadata": {},
   "source": [
    "# 19章 プラガブルPython"
   ]
  },
  {
   "cell_type": "markdown",
   "id": "8ecbb746-68c0-4e17-b4a9-d976dad7f3bf",
   "metadata": {},
   "source": [
    "## Template Methodパターン"
   ]
  },
  {
   "cell_type": "code",
   "execution_count": 1,
   "id": "5ca7df8e-fc16-4ad6-a3d3-db13887b446a",
   "metadata": {},
   "outputs": [],
   "source": [
    "from collections.abc import Callable\n",
    "from dataclasses import dataclass"
   ]
  },
  {
   "cell_type": "code",
   "execution_count": null,
   "id": "9d199db6-98f3-4151-8551-38833e1db9a9",
   "metadata": {},
   "outputs": [],
   "source": [
    "@dataclass:\n",
    "class PizzaCreationFunctions:\n",
    "    prepare_ingredients: Callable\n",
    "    add_pre_bake_toppings: Callable\n",
    "    add_post_bake_toppings: Callable\n",
    "\n",
    "def create_pizza(pizza_create_functions: PizzaCreationFunctions):\n",
    "    pizza_create_functions.prepare_ingredients()\n",
    "    roll_out_pizza_base()\n",
    "    pizza_create_functions.add_pre_bake_toppings()\n",
    "    bake_pizza()\n",
    "    pizza_create_functions.add_post_bake_toppings()\n",
    "\n",
    "# pizzaを作る関数は独自で渡す\n",
    "pizza_create_functions = PizzaCreationFunctions(\n",
    "    prepare_ingredients=mix_zaatar,\n",
    "    add_pre_bake_toppings=add_meat_and_halloumi,\n",
    "    add_post_bake_toppings=drizzle_olive_oil\n",
    ")"
   ]
  },
  {
   "cell_type": "markdown",
   "id": "158405b9-aba4-4641-8774-41984b5ac8d1",
   "metadata": {},
   "source": [
    "## Strategyパターン"
   ]
  },
  {
   "cell_type": "code",
   "execution_count": 3,
   "id": "49b861ab-7231-4e83-affb-8b5b824ed20e",
   "metadata": {},
   "outputs": [
    {
     "ename": "SyntaxError",
     "evalue": "invalid syntax (4052537175.py, line 9)",
     "output_type": "error",
     "traceback": [
      "\u001b[0;36m  Cell \u001b[0;32mIn[3], line 9\u001b[0;36m\u001b[0m\n\u001b[0;31m    class Strategy(humanA: Human, humanB: Human):\u001b[0m\n\u001b[0m                         ^\u001b[0m\n\u001b[0;31mSyntaxError\u001b[0m\u001b[0;31m:\u001b[0m invalid syntax\n"
     ]
    }
   ],
   "source": [
    "import abc\n",
    "# Humanクラスの属性を比較して、値を返却する場合を想定する\n",
    "@dataclass\n",
    "class Human:\n",
    "    height: int\n",
    "    weight: int\n",
    "    age: int\n",
    "\n",
    "class Strategy(humanA: Human, humanB: Human):\n",
    "    \"\"\"\n",
    "    アルゴリズム（ConcreteStrategy）が実装する共通のインターフェイス\n",
    "    \"\"\"\n",
    "    @abc.abstractmethod\n",
    "    def operation(self):\n",
    "        pass\n",
    "\n",
    "# アルゴリズム\n",
    "class AgeComparator(Strategy):\n",
    "    \"\"\"\n",
    "    Strategy インターフェイスを実装するクラス\n",
    "    \"\"\"\n",
    "    def operation(self):\n",
    "        if human1.age > human2.age:\n",
    "            return 1\n",
    "        elif human1.age == human2.age:\n",
    "            return 0\n",
    "        elif human1.age < human2.age:\n",
    "            return -1\n",
    "\n",
    "class WeightComparator(Strategy):\n",
    "    def operation(self):\n",
    "        if human1.height > human2.height:\n",
    "            return 1\n",
    "        elif human1.height == human2.height:\n",
    "            return 0\n",
    "        elif human1.height < human2.height:\n",
    "            return -1\n",
    "            \n",
    "class Context:\n",
    "    \"\"\"\n",
    "    ConcreteStrategy をインスタンス変数として持つクラス\n",
    "    \"\"\"\n",
    "    def __init__(self, strategy: Strategy):\n",
    "        self.strategy = strategy\n",
    "\n",
    "    def operation(self):\n",
    "        # ConcreteStrategy のメソッドを呼ぶことで、一部の処理を委託する\n",
    "        self.strategy.operation()"
   ]
  },
  {
   "cell_type": "code",
   "execution_count": null,
   "id": "c8e6e4e4-8da4-4400-8353-91dcd8f48708",
   "metadata": {},
   "outputs": [],
   "source": []
  }
 ],
 "metadata": {
  "kernelspec": {
   "display_name": "Python 3 (ipykernel)",
   "language": "python",
   "name": "python3"
  },
  "language_info": {
   "codemirror_mode": {
    "name": "ipython",
    "version": 3
   },
   "file_extension": ".py",
   "mimetype": "text/x-python",
   "name": "python",
   "nbconvert_exporter": "python",
   "pygments_lexer": "ipython3",
   "version": "3.9.18"
  }
 },
 "nbformat": 4,
 "nbformat_minor": 5
}
