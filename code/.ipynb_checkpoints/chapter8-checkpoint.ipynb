{
 "cells": [
  {
   "cell_type": "markdown",
   "metadata": {},
   "source": [
    "# 列挙型"
   ]
  },
  {
   "cell_type": "code",
   "execution_count": 3,
   "metadata": {},
   "outputs": [],
   "source": [
    "from enum import Enum"
   ]
  },
  {
   "cell_type": "code",
   "execution_count": 2,
   "metadata": {},
   "outputs": [
    {
     "name": "stdout",
     "output_type": "stream",
     "text": [
      "JapaneseSweets.RICECAKE\n"
     ]
    },
    {
     "ename": "AttributeError",
     "evalue": "hoge",
     "output_type": "error",
     "traceback": [
      "\u001b[0;31m---------------------------------------------------------------------------\u001b[0m",
      "\u001b[0;31mAttributeError\u001b[0m                            Traceback (most recent call last)",
      "Cell \u001b[0;32mIn[2], line 8\u001b[0m\n\u001b[1;32m      6\u001b[0m \u001b[38;5;28mprint\u001b[39m(JapaneseSweets\u001b[38;5;241m.\u001b[39mRICECAKE)\n\u001b[1;32m      7\u001b[0m \u001b[38;5;66;03m# 存在しないものはエラーになる\u001b[39;00m\n\u001b[0;32m----> 8\u001b[0m \u001b[38;5;28mprint\u001b[39m(\u001b[43mJapaneseSweets\u001b[49m\u001b[38;5;241;43m.\u001b[39;49m\u001b[43mhoge\u001b[49m)\n",
      "File \u001b[0;32m/usr/local/lib/python3.9/enum.py:429\u001b[0m, in \u001b[0;36mEnumMeta.__getattr__\u001b[0;34m(cls, name)\u001b[0m\n\u001b[1;32m    427\u001b[0m     \u001b[38;5;28;01mreturn\u001b[39;00m \u001b[38;5;28mcls\u001b[39m\u001b[38;5;241m.\u001b[39m_member_map_[name]\n\u001b[1;32m    428\u001b[0m \u001b[38;5;28;01mexcept\u001b[39;00m \u001b[38;5;167;01mKeyError\u001b[39;00m:\n\u001b[0;32m--> 429\u001b[0m     \u001b[38;5;28;01mraise\u001b[39;00m \u001b[38;5;167;01mAttributeError\u001b[39;00m(name) \u001b[38;5;28;01mfrom\u001b[39;00m \u001b[38;5;28;01mNone\u001b[39;00m\n",
      "\u001b[0;31mAttributeError\u001b[0m: hoge"
     ]
    }
   ],
   "source": [
    "class JapaneseSweets(Enum):\n",
    "    RICECAKE = \"餅\"\n",
    "    BEAMJAMFILLED = \"最中\"\n",
    "    DAIFUKU = \"大福\"\n",
    "\n",
    "print(JapaneseSweets.RICECAKE)\n",
    "# 存在しないものはエラーになる\n",
    "print(JapaneseSweets.hoge)"
   ]
  },
  {
   "cell_type": "code",
   "execution_count": 3,
   "metadata": {},
   "outputs": [
    {
     "name": "stdout",
     "output_type": "stream",
     "text": [
      "0: JapaneseSweets.RICECAKE\n",
      "1: JapaneseSweets.BEAMJAMFILLED\n",
      "2: JapaneseSweets.DAIFUKU\n"
     ]
    }
   ],
   "source": [
    "# 一覧を表示する\n",
    "for num, name in enumerate(JapaneseSweets):\n",
    "    print(f\"{num}: {name}\")"
   ]
  },
  {
   "cell_type": "markdown",
   "metadata": {},
   "source": [
    "## auto()"
   ]
  },
  {
   "cell_type": "code",
   "execution_count": 4,
   "metadata": {},
   "outputs": [],
   "source": [
    "from enum import auto"
   ]
  },
  {
   "cell_type": "code",
   "execution_count": 6,
   "metadata": {},
   "outputs": [],
   "source": [
    "class ChinaSweets(Enum):\n",
    "    YUEBIN = auto()\n",
    "    GUAZU = auto()\n",
    "    TANFURU = auto()"
   ]
  },
  {
   "cell_type": "code",
   "execution_count": 9,
   "metadata": {},
   "outputs": [
    {
     "name": "stdout",
     "output_type": "stream",
     "text": [
      "ChinaSweets.YUEBIN\n",
      "[<ChinaSweets.YUEBIN: 1>, <ChinaSweets.GUAZU: 2>, <ChinaSweets.TANFURU: 3>]\n"
     ]
    }
   ],
   "source": [
    "print(ChinaSweets.YUEBIN)\n",
    "print(list(ChinaSweets))"
   ]
  },
  {
   "cell_type": "markdown",
   "metadata": {},
   "source": [
    "## flag"
   ]
  },
  {
   "cell_type": "code",
   "execution_count": 10,
   "metadata": {},
   "outputs": [],
   "source": [
    "from enum import Flag"
   ]
  },
  {
   "cell_type": "code",
   "execution_count": 11,
   "metadata": {},
   "outputs": [],
   "source": [
    "class Allergen(Flag):\n",
    "    FISH = auto()\n",
    "    SOY = auto()\n",
    "    DAIRY = auto()\n",
    "    TREE_NUTS = auto()"
   ]
  },
  {
   "cell_type": "code",
   "execution_count": 14,
   "metadata": {},
   "outputs": [
    {
     "name": "stdout",
     "output_type": "stream",
     "text": [
      "sea food アレルギー\n"
     ]
    }
   ],
   "source": [
    "seafoog_allergry = Allergen.FISH | Allergen.DAIRY\n",
    "if seafoog_allergry & Allergen.FISH:\n",
    "    print(\"sea food アレルギー\")"
   ]
  },
  {
   "cell_type": "code",
   "execution_count": null,
   "metadata": {},
   "outputs": [],
   "source": []
  }
 ],
 "metadata": {
  "kernelspec": {
   "display_name": "Python 3 (ipykernel)",
   "language": "python",
   "name": "python3"
  },
  "language_info": {
   "codemirror_mode": {
    "name": "ipython",
    "version": 3
   },
   "file_extension": ".py",
   "mimetype": "text/x-python",
   "name": "python",
   "nbconvert_exporter": "python",
   "pygments_lexer": "ipython3",
   "version": "3.9.17"
  }
 },
 "nbformat": 4,
 "nbformat_minor": 4
}
